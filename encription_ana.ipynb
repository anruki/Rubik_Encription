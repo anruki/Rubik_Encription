{
  "nbformat": 4,
  "nbformat_minor": 0,
  "metadata": {
    "colab": {
      "provenance": [],
      "include_colab_link": true
    },
    "kernelspec": {
      "name": "python3",
      "display_name": "Python 3"
    },
    "language_info": {
      "name": "python"
    }
  },
  "cells": [
    {
      "cell_type": "markdown",
      "metadata": {
        "id": "view-in-github",
        "colab_type": "text"
      },
      "source": [
        "<a href=\"https://colab.research.google.com/github/anruki/Rubik_Encription/blob/main/encription_ana.ipynb\" target=\"_parent\"><img src=\"https://colab.research.google.com/assets/colab-badge.svg\" alt=\"Open In Colab\"/></a>"
      ]
    },
    {
      "cell_type": "markdown",
      "source": [
        "# Modelo de cifrado empleando las permutaciones del cubo de Rubik"
      ],
      "metadata": {
        "id": "16Q0FUv7h-Y9"
      }
    },
    {
      "cell_type": "markdown",
      "source": [
        "## Importación de las librerías de python necesarias"
      ],
      "metadata": {
        "id": "eQlcA_rF28k3"
      }
    },
    {
      "cell_type": "code",
      "source": [
        "import numpy as np\n",
        "import secrets"
      ],
      "metadata": {
        "id": "Y-c410kO3APV"
      },
      "execution_count": 12,
      "outputs": []
    },
    {
      "cell_type": "markdown",
      "source": [
        "La biblioteca `numpy` de python proporciona estructuras como arrays, y funciones para operar con ellos."
      ],
      "metadata": {
        "id": "CZxi2LyN8D0I"
      }
    },
    {
      "cell_type": "markdown",
      "source": [
        "- Ejemplo de uso:"
      ],
      "metadata": {
        "id": "kdQUaMt58iKM"
      }
    },
    {
      "cell_type": "code",
      "source": [
        "# Creación de dos matrices utilizando NumPy\n",
        "matriz_a = np.array([[1, 2, 3], [4, 5, 6]])\n",
        "matriz_b = np.array([[7, 8, 9], [10, 11, 12]])\n",
        "\n",
        "# Multiplicación matricial (producto punto)\n",
        "producto_punto = np.dot(matriz_a, matriz_b.T)"
      ],
      "metadata": {
        "id": "IFHkuNvG8ckO"
      },
      "execution_count": 13,
      "outputs": []
    },
    {
      "cell_type": "markdown",
      "source": [
        "La biblioteca `secrets` de python permite generar números aleatorios de forma segura (TODO: explicar aquí por qué)"
      ],
      "metadata": {
        "id": "hiA7z4FQnsK7"
      }
    },
    {
      "cell_type": "markdown",
      "source": [
        "- Ejemplo de uso:"
      ],
      "metadata": {
        "id": "Dk7AdiXj8kAL"
      }
    },
    {
      "cell_type": "code",
      "source": [
        "# Generación de un número aleatorio seguro en el rango especificado\n",
        "num_aleatorio = secrets.randbelow(100)  # Genera un número aleatorio entre 0 y 99 (inclusive)\n",
        "print(\"Número aleatorio:\", num_aleatorio)\n",
        "\n",
        "# Generación de números aleatorios con un número específico de bits\n",
        "num_aleatorio_bits = secrets.randbits(16)  # Genera un número aleatorio de 16 bits\n",
        "print(\"Número aleatorio (16 bits):\", num_aleatorio_bits)"
      ],
      "metadata": {
        "id": "ryHnbmqxm44Q",
        "outputId": "41003d9c-01bb-4269-c60c-0e0e16885a3a",
        "colab": {
          "base_uri": "https://localhost:8080/"
        }
      },
      "execution_count": null,
      "outputs": [
        {
          "output_type": "stream",
          "name": "stdout",
          "text": [
            "Número aleatorio: 29\n",
            "Número aleatorio (16 bits): 27420\n"
          ]
        }
      ]
    },
    {
      "cell_type": "markdown",
      "source": [
        "### Transformación binaria"
      ],
      "metadata": {
        "id": "e5Ris-9WlgOc"
      }
    },
    {
      "cell_type": "markdown",
      "source": [
        "Los ordenadores manejan expresiones en binario y no en el alfabeto. Para simular el proceso de encriptación en un ordenador, crearemos una función que transforme el mensaje a binario."
      ],
      "metadata": {
        "id": "4JT7uBgPiFKx"
      }
    },
    {
      "cell_type": "code",
      "source": [
        "def transformacion_binaria(mensaje):\n",
        "    binarios = [format(ord(letra), '08b') for letra in mensaje]\n",
        "    return binarios\n"
      ],
      "metadata": {
        "id": "7Btszclgkaoj"
      },
      "execution_count": 1,
      "outputs": []
    },
    {
      "cell_type": "markdown",
      "source": [
        "Para representar 26 letras del alfabeto inglés, se necesita un número entero de bits que sea igual o mayor al logaritmo en base 2 de 26 (log₂(26)).\n",
        "\n",
        "El logaritmo en base 2 de un número N nos dice cuántos bits necesitaríamos para representar N valores distintos. En este caso, el logaritmo en base 2 de 26 es aproximadamente 4.7. Dado que necesitamos un número entero de bits, redondearemos hacia arriba a 5. Por lo tanto, necesitarías al menos 5 bits para representar 26 letras del alfabeto inglés de forma única.\n",
        "\n",
        "Siempre es recomendable redondear hacia arriba para asegurarnos de tener suficientes bits para representar todos los elementos de manera única. En este caso, redondeamos hacia arriba a 5 bits para representar 26 letras del alfabeto inglés."
      ],
      "metadata": {
        "id": "_TMxWmY-6ALw"
      }
    },
    {
      "cell_type": "markdown",
      "source": [
        "Y su función inversa para posteriormente poder decodificar el mensaje:"
      ],
      "metadata": {
        "id": "rJd6GS5X0D2z"
      }
    },
    {
      "cell_type": "code",
      "source": [
        "def transformacion_caracteres(lista_binaria):\n",
        "    mensaje = ''\n",
        "    for binario in lista_binaria:\n",
        "        caracter = chr(int(binario, 2))\n",
        "        mensaje += caracter\n",
        "    return mensaje"
      ],
      "metadata": {
        "id": "Wcc_DjrIzWnR"
      },
      "execution_count": 6,
      "outputs": []
    },
    {
      "cell_type": "markdown",
      "source": [
        "Probamos con un mensaje de ejemplo:"
      ],
      "metadata": {
        "id": "lMgXqOzwloeJ"
      }
    },
    {
      "cell_type": "markdown",
      "source": [
        "- Transformación a formato binario:"
      ],
      "metadata": {
        "id": "kskd_hmu3HZ1"
      }
    },
    {
      "cell_type": "code",
      "source": [
        "x = transformacion_binaria('ejemplo')\n",
        "x = np.array(x)\n",
        "print(x)"
      ],
      "metadata": {
        "id": "WaiNgbT0lR0T",
        "outputId": "3f2c17be-75ff-4cd7-b0f3-6a2f1d8443ff",
        "colab": {
          "base_uri": "https://localhost:8080/"
        }
      },
      "execution_count": 4,
      "outputs": [
        {
          "output_type": "stream",
          "name": "stdout",
          "text": [
            "['01100101' '01101010' '01100101' '01101101' '01110000' '01101100'\n",
            " '01101111']\n"
          ]
        }
      ]
    },
    {
      "cell_type": "markdown",
      "source": [
        "- Transformación de formato binario a caracteres:"
      ],
      "metadata": {
        "id": "0qeSq2e23J3s"
      }
    },
    {
      "cell_type": "code",
      "source": [
        "y = transformacion_caracteres(x)\n",
        "print(y)"
      ],
      "metadata": {
        "id": "AGnMreIYzZfL",
        "colab": {
          "base_uri": "https://localhost:8080/"
        },
        "outputId": "690964a0-d532-4b64-f74a-2ccd278787b2"
      },
      "execution_count": 7,
      "outputs": [
        {
          "output_type": "stream",
          "name": "stdout",
          "text": [
            "ejemplo\n"
          ]
        }
      ]
    },
    {
      "cell_type": "markdown",
      "source": [
        "## Transformación del mensaje a numérico"
      ],
      "metadata": {
        "id": "TPFtPAVzPsvM"
      }
    },
    {
      "cell_type": "markdown",
      "source": [
        "En nuestro caso, para ver fácilmente la operación del proceso de encriptación, vamos a pasar el mensaje en caracteres a un mensaje compuesto por números, cada letra del abecedario es representada por un valor numérico. Por ejemplo:\n",
        "\n",
        "A: 0\n",
        "B: 1\n",
        "C:2\n",
        "\n",
        "TODO: cifrado César aquí"
      ],
      "metadata": {
        "id": "s5dF8LFc6Oab"
      }
    },
    {
      "cell_type": "code",
      "source": [
        "def caracteres_a_numeros(texto):\n",
        "    def caracter_a_numero(caracter):\n",
        "        if not caracter.isalpha():\n",
        "            return None  # Retornar None si no es un carácter alfabético\n",
        "        return ord(caracter.lower()) - ord('a')\n",
        "\n",
        "    # Convertir cada carácter del texto a su equivalente numérico y guardarlos en el array\n",
        "    numeros = []\n",
        "    for caracter in texto:\n",
        "        numero = caracter_a_numero(caracter)\n",
        "        if numero is not None:\n",
        "            numeros.append(numero)\n",
        "\n",
        "    return np.array(numeros)  # Convertir la lista a un array NumPy"
      ],
      "metadata": {
        "id": "E2ug1CxnPvjl"
      },
      "execution_count": 10,
      "outputs": []
    },
    {
      "cell_type": "markdown",
      "source": [
        "Probamos un mensaje de ejemplo y llamamos a la función anterior."
      ],
      "metadata": {
        "id": "gNvcHkUz7qsV"
      }
    },
    {
      "cell_type": "code",
      "source": [
        "# Cadena de texto de ejemplo\n",
        "texto = 'abcdef'\n",
        "\n",
        "# Llamar a la función con el texto dado\n",
        "resultado = caracteres_a_numeros(texto)\n",
        "\n",
        "print(\"Números obtenidos:\", resultado)"
      ],
      "metadata": {
        "colab": {
          "base_uri": "https://localhost:8080/"
        },
        "id": "ibYJtysM7sPK",
        "outputId": "b257377c-9e77-449b-adc3-acf7ccc12dad"
      },
      "execution_count": 74,
      "outputs": [
        {
          "output_type": "stream",
          "name": "stdout",
          "text": [
            "Números obtenidos: [0 1 2 3 4 5]\n"
          ]
        }
      ]
    },
    {
      "cell_type": "markdown",
      "source": [
        "## Creación de la función de encriptación simétrica"
      ],
      "metadata": {
        "id": "ZjNPF2I7lz2V"
      }
    },
    {
      "cell_type": "markdown",
      "source": [
        "El mensaje en binario se le aplica a una matriz que representa las permutaciones del cubo de Rubik. Concretamente es una matriz con 2x3 dimensiones, para representar las 2 caras permutables del cubo y los 3 ejes `[x,y,z]` sobre los que se puede rotar cada cara. Para que la matriz sea cuadrada (necesario para la encriptación simétrica) se le añade una fila de unos.\n",
        "\n",
        "Al tratarse de una estructura cúbica, trabajamos en modulo 4, ya que cada permutación, si se repite el mismo movimiento 4 veces, se vuelve a la posición inicial."
      ],
      "metadata": {
        "id": "C7gt31tLl40j"
      }
    },
    {
      "cell_type": "markdown",
      "source": [
        "**Generación de la matriz en el cuerpo módulo 4**"
      ],
      "metadata": {
        "id": "HrBlSEVZn3eO"
      }
    },
    {
      "cell_type": "markdown",
      "source": [
        "Se utiliza:\n",
        " - La función `randbelow()` de la biblioteca `secrets` para generar números aleatorios **módulo 4**, es decir de 0 a 3.\n",
        "\n",
        "- La función `.array()` de la biblioteca `numpy` para obtener una matriz de `3 filas` y `2 columnas`"
      ],
      "metadata": {
        "id": "fthEBjKW86cF"
      }
    },
    {
      "cell_type": "markdown",
      "source": [
        "La notación de llamada de la función secrets.randbelow(4) y np.array() sigue la convención de utilizar el punto para acceder a los métodos y atributos dentro de un módulo o biblioteca en Python."
      ],
      "metadata": {
        "id": "oMBVrwYB98Ka"
      }
    },
    {
      "cell_type": "code",
      "source": [
        "def rubik_matrix():\n",
        "    # Función que calcula una matriz de permutaciones aleatorias (con una fila de ceros agregada para que sea cuadrada)\n",
        "\n",
        "    # Definición del número de filas y columnas\n",
        "    filas = 3\n",
        "    columnas = 3\n",
        "    # Inicialización de la matriz\n",
        "    matriz_permutaciones = []\n",
        "\n",
        "    # Crear la matriz con números aleatorios\n",
        "    matriz_permutaciones = np.array([[secrets.randbelow(4) for _ in range(columnas)] for _ in range(filas-1)])\n",
        "\n",
        "    # Agregar una fila de unos al final de la matriz\n",
        "    fila_ceros = np.ones((1, columnas), dtype=int)\n",
        "    matriz_permutaciones = np.append(matriz_permutaciones, fila_ceros, axis=0)\n",
        "\n",
        "    return matriz_permutaciones"
      ],
      "metadata": {
        "id": "kt7h5e-Hb1z_"
      },
      "execution_count": 75,
      "outputs": []
    },
    {
      "cell_type": "code",
      "source": [
        "# Crear la matriz con números aleatorios\n",
        "matriz_permutaciones = rubik_matrix()\n",
        "\n",
        "# Asegurar que la matriz tenga inversa (determinante no nulo)\n",
        "while np.linalg.det(matriz_permutaciones) == 0:\n",
        "    matriz_permutaciones = rubik_matrix()\n",
        "\n",
        "print(matriz_permutaciones)"
      ],
      "metadata": {
        "id": "-8-CZc5Hn-CU",
        "colab": {
          "base_uri": "https://localhost:8080/"
        },
        "outputId": "36a3767c-63e8-424f-dd9e-414d3dd19b37"
      },
      "execution_count": 76,
      "outputs": [
        {
          "output_type": "stream",
          "name": "stdout",
          "text": [
            "[[1 2 1]\n",
            " [0 2 2]\n",
            " [1 1 1]]\n"
          ]
        }
      ]
    },
    {
      "cell_type": "markdown",
      "source": [
        "**Multiplicación de la matriz por el vector del mensaje**\n",
        "\n",
        "TODO: si el mensahe es impar, añadir -1"
      ],
      "metadata": {
        "id": "tJuHx2MvTXyk"
      }
    },
    {
      "cell_type": "markdown",
      "source": [
        "En un cifrado simétrico como este, la matriz (nuestra `llave privada`) tomará valores diferentes cada vez que se encripte un mensaje para una gestión de mensajes más segura.\n",
        "\n",
        " Sin embargo, las dimensiones de la matriz de permutaciones siempre son las mismas, y no tienen por qué coincidir con las dimensiones del mensaje a encriptar, es por ello, que se ha de 'trocear' o hacer 'slicing' del mensaje para que independientemente de sus dimensiones, pueda ser multiplicado matricialmente con la matriz de permutaciones."
      ],
      "metadata": {
        "id": "sHkYcaG0BFNv"
      }
    },
    {
      "cell_type": "code",
      "source": [
        "resultado"
      ],
      "metadata": {
        "colab": {
          "base_uri": "https://localhost:8080/"
        },
        "id": "5NVVhznfGOX_",
        "outputId": "f627359a-b4f4-45b8-df51-5567a11e7a81"
      },
      "execution_count": 77,
      "outputs": [
        {
          "output_type": "execute_result",
          "data": {
            "text/plain": [
              "array([0, 1, 2, 3, 4, 5])"
            ]
          },
          "metadata": {},
          "execution_count": 77
        }
      ]
    },
    {
      "cell_type": "code",
      "source": [
        "# cifrado_num = np.dot(matriz_permutaciones, resultado)\n",
        "n = resultado.size\n",
        "# Si el tamaño del mensaje es impar, añado un -1 al final\n",
        "while n%3 != 0:\n",
        "  np.append(resultado,-1)\n",
        "m = n//3\n",
        "resultado_2 = resultado.reshape(m, 3)\n",
        "print(resultado_2)\n",
        "# hago slice del array mensaje\n",
        "cifrado_num = []\n",
        "for i in range(m):\n",
        "  cifrado_num = cifrado_num + [np.dot(matriz_permutaciones, resultado_2[i])]"
      ],
      "metadata": {
        "id": "PZUr_bfo8l9h",
        "colab": {
          "base_uri": "https://localhost:8080/"
        },
        "outputId": "5f4c82ea-c56c-4f9e-c7f6-ae6c8aa0ec81"
      },
      "execution_count": 85,
      "outputs": [
        {
          "output_type": "stream",
          "name": "stdout",
          "text": [
            "[[0 1 2]\n",
            " [3 4 5]]\n"
          ]
        }
      ]
    },
    {
      "cell_type": "code",
      "source": [
        "cifrado_num = cifrado_num.astype(int)"
      ],
      "metadata": {
        "id": "86DgrhRhL-Oq"
      },
      "execution_count": 80,
      "outputs": []
    },
    {
      "cell_type": "code",
      "source": [
        "cifrado_num"
      ],
      "metadata": {
        "id": "cyX0WcthZ3gw",
        "outputId": "ce594d92-0171-4005-8e9d-50df37aa28f9",
        "colab": {
          "base_uri": "https://localhost:8080/"
        }
      },
      "execution_count": 88,
      "outputs": [
        {
          "output_type": "execute_result",
          "data": {
            "text/plain": [
              "[array([4, 6, 3]), array([16, 18, 12])]"
            ]
          },
          "metadata": {},
          "execution_count": 88
        }
      ]
    },
    {
      "cell_type": "markdown",
      "source": [
        "Pasamos a carácter de nuevo.\n",
        "TODO: si hay -1 = ''\n"
      ],
      "metadata": {
        "id": "0-SO-h20Tbt1"
      }
    },
    {
      "cell_type": "code",
      "source": [
        "def numeros_a_caracteres(numeros):\n",
        "    def numero_a_caracter(numero):\n",
        "        if numero < 0 or numero >= 26:\n",
        "            return None  # Retornar None si el número está fuera del rango válido\n",
        "        return chr(numero + ord('a'))\n",
        "\n",
        "    # Convertir cada número en el array a su equivalente alfabético y guardarlos en una lista\n",
        "    caracteres = []\n",
        "    for numero in numeros:\n",
        "        caracter = numero_a_caracter(numero)\n",
        "        if caracter is not None:\n",
        "            caracteres.append(caracter)\n",
        "\n",
        "    # Unir los caracteres en una cadena de texto\n",
        "    return ''.join(caracteres)\n",
        "cifrado_char = numeros_a_caracteres(np.concatenate(cifrado_num))"
      ],
      "metadata": {
        "id": "vJ3bABSC9zhM"
      },
      "execution_count": 91,
      "outputs": []
    },
    {
      "cell_type": "code",
      "source": [
        "cifrado_char"
      ],
      "metadata": {
        "id": "mw4aPDG-9nul",
        "outputId": "89968cd9-6676-408a-86e8-6ed1105addc5",
        "colab": {
          "base_uri": "https://localhost:8080/",
          "height": 36
        }
      },
      "execution_count": 92,
      "outputs": [
        {
          "output_type": "execute_result",
          "data": {
            "text/plain": [
              "'egdqsm'"
            ],
            "application/vnd.google.colaboratory.intrinsic+json": {
              "type": "string"
            }
          },
          "metadata": {},
          "execution_count": 92
        }
      ]
    },
    {
      "cell_type": "markdown",
      "source": [
        "Para descifrar el mensaje, calculamos la inversa de la matriz transformación:"
      ],
      "metadata": {
        "id": "kNcRPWKcT3Xa"
      }
    },
    {
      "cell_type": "code",
      "source": [
        "# Calcular la pseudoinversa\n",
        "inversa = np.linalg.inv(matriz_permutaciones)\n",
        "print(inversa)"
      ],
      "metadata": {
        "id": "zgOYkK83YFZn",
        "outputId": "914913e6-cbef-4dc5-95e8-16c6832ec68a",
        "colab": {
          "base_uri": "https://localhost:8080/"
        }
      },
      "execution_count": 98,
      "outputs": [
        {
          "output_type": "stream",
          "name": "stdout",
          "text": [
            "[[ 0.  -0.5  1. ]\n",
            " [ 1.   0.  -1. ]\n",
            " [-1.   0.5  1. ]]\n"
          ]
        }
      ]
    },
    {
      "cell_type": "code",
      "source": [
        "descifrado_num = []\n",
        "for i in range(m):\n",
        "  descifrado_num = descifrado_num + [np.dot(inversa, cifrado_num[i])]\n",
        "print(descifrado_num)"
      ],
      "metadata": {
        "id": "mA176LH5ZKrw",
        "outputId": "5a7335c1-6486-4d39-e70f-e03da6545b4b",
        "colab": {
          "base_uri": "https://localhost:8080/"
        }
      },
      "execution_count": 99,
      "outputs": [
        {
          "output_type": "stream",
          "name": "stdout",
          "text": [
            "[array([0., 1., 2.]), array([3., 4., 5.])]\n"
          ]
        }
      ]
    },
    {
      "cell_type": "code",
      "source": [
        "mensaje = []\n",
        "for i in range(m):\n",
        "  mensaje = np.append(mensaje,numeros_a_caracteres(descifrado_num[i].astype(int)))\n",
        "print(mensaje)"
      ],
      "metadata": {
        "id": "jbs-qnqDhnLz",
        "outputId": "809c8ba9-dc14-43fe-c467-8008a6c42717",
        "colab": {
          "base_uri": "https://localhost:8080/"
        }
      },
      "execution_count": 101,
      "outputs": [
        {
          "output_type": "stream",
          "name": "stdout",
          "text": [
            "['abc' 'def']\n"
          ]
        }
      ]
    },
    {
      "cell_type": "markdown",
      "source": [
        "Y así obtenemos el mensaje inicial."
      ],
      "metadata": {
        "id": "sb-0bD2oiEYc"
      }
    }
  ]
}