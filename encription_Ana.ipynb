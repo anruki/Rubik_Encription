{
  "nbformat": 4,
  "nbformat_minor": 0,
  "metadata": {
    "colab": {
      "provenance": [],
      "include_colab_link": true
    },
    "kernelspec": {
      "name": "python3",
      "display_name": "Python 3"
    },
    "language_info": {
      "name": "python"
    }
  },
  "cells": [
    {
      "cell_type": "markdown",
      "metadata": {
        "id": "view-in-github",
        "colab_type": "text"
      },
      "source": [
        "<a href=\"https://colab.research.google.com/github/anruki/Rubik_Encription/blob/main/encription_Ana.ipynb\" target=\"_parent\"><img src=\"https://colab.research.google.com/assets/colab-badge.svg\" alt=\"Open In Colab\"/></a>"
      ]
    },
    {
      "cell_type": "markdown",
      "source": [
        "# Modelo de cifrado empleando las permutaciones del cubo de Rubik"
      ],
      "metadata": {
        "id": "16Q0FUv7h-Y9"
      }
    },
    {
      "cell_type": "markdown",
      "source": [
        "## Importación de las librerías de python necesarias"
      ],
      "metadata": {
        "id": "eQlcA_rF28k3"
      }
    },
    {
      "cell_type": "code",
      "source": [
        "import numpy as np\n",
        "import secrets"
      ],
      "metadata": {
        "id": "Y-c410kO3APV"
      },
      "execution_count": 12,
      "outputs": []
    },
    {
      "cell_type": "markdown",
      "source": [
        "La biblioteca `numpy` de python proporciona estructuras como arrays, y funciones para operar con ellos."
      ],
      "metadata": {
        "id": "CZxi2LyN8D0I"
      }
    },
    {
      "cell_type": "markdown",
      "source": [
        "- Ejemplo de uso:"
      ],
      "metadata": {
        "id": "kdQUaMt58iKM"
      }
    },
    {
      "cell_type": "code",
      "source": [
        "# Creación de dos matrices utilizando NumPy\n",
        "matriz_a = np.array([[1, 2, 3], [4, 5, 6]])\n",
        "matriz_b = np.array([[7, 8, 9], [10, 11, 12]])\n",
        "\n",
        "# Multiplicación matricial (producto punto)\n",
        "producto_punto = np.dot(matriz_a, matriz_b.T)"
      ],
      "metadata": {
        "id": "IFHkuNvG8ckO"
      },
      "execution_count": 13,
      "outputs": []
    },
    {
      "cell_type": "markdown",
      "source": [
        "La biblioteca `secrets` de python permite generar números aleatorios de forma segura (TODO: explicar aquí por qué)"
      ],
      "metadata": {
        "id": "hiA7z4FQnsK7"
      }
    },
    {
      "cell_type": "markdown",
      "source": [
        "- Ejemplo de uso:"
      ],
      "metadata": {
        "id": "Dk7AdiXj8kAL"
      }
    },
    {
      "cell_type": "code",
      "source": [
        "# Generación de un número aleatorio seguro en el rango especificado\n",
        "num_aleatorio = secrets.randbelow(100)  # Genera un número aleatorio entre 0 y 99 (inclusive)\n",
        "print(\"Número aleatorio:\", num_aleatorio)\n",
        "\n",
        "# Generación de números aleatorios con un número específico de bits\n",
        "num_aleatorio_bits = secrets.randbits(16)  # Genera un número aleatorio de 16 bits\n",
        "print(\"Número aleatorio (16 bits):\", num_aleatorio_bits)"
      ],
      "metadata": {
        "id": "ryHnbmqxm44Q",
        "outputId": "41003d9c-01bb-4269-c60c-0e0e16885a3a",
        "colab": {
          "base_uri": "https://localhost:8080/"
        }
      },
      "execution_count": null,
      "outputs": [
        {
          "output_type": "stream",
          "name": "stdout",
          "text": [
            "Número aleatorio: 29\n",
            "Número aleatorio (16 bits): 27420\n"
          ]
        }
      ]
    },
    {
      "cell_type": "markdown",
      "source": [
        "### Transformación binaria"
      ],
      "metadata": {
        "id": "e5Ris-9WlgOc"
      }
    },
    {
      "cell_type": "markdown",
      "source": [
        "Los ordenadores manejan expresiones en binario y no en el alfabeto. Para simular el proceso de encriptación en un ordenador, crearemos una función que transforme el mensaje a binario."
      ],
      "metadata": {
        "id": "4JT7uBgPiFKx"
      }
    },
    {
      "cell_type": "code",
      "source": [
        "def transformacion_binaria(mensaje):\n",
        "    binarios = [format(ord(letra), '08b') for letra in mensaje]\n",
        "    return binarios\n"
      ],
      "metadata": {
        "id": "7Btszclgkaoj"
      },
      "execution_count": 1,
      "outputs": []
    },
    {
      "cell_type": "markdown",
      "source": [
        "Para representar 26 letras del alfabeto inglés, se necesita un número entero de bits que sea igual o mayor al logaritmo en base 2 de 26 (log₂(26)).\n",
        "\n",
        "El logaritmo en base 2 de un número N nos dice cuántos bits necesitaríamos para representar N valores distintos. En este caso, el logaritmo en base 2 de 26 es aproximadamente 4.7. Dado que necesitamos un número entero de bits, redondearemos hacia arriba a 5. Por lo tanto, necesitarías al menos 5 bits para representar 26 letras del alfabeto inglés de forma única.\n",
        "\n",
        "Siempre es recomendable redondear hacia arriba para asegurarnos de tener suficientes bits para representar todos los elementos de manera única. En este caso, redondeamos hacia arriba a 5 bits para representar 26 letras del alfabeto inglés."
      ],
      "metadata": {
        "id": "_TMxWmY-6ALw"
      }
    },
    {
      "cell_type": "markdown",
      "source": [
        "Y su función inversa para posteriormente poder decodificar el mensaje:"
      ],
      "metadata": {
        "id": "rJd6GS5X0D2z"
      }
    },
    {
      "cell_type": "code",
      "source": [
        "def transformacion_caracteres(lista_binaria):\n",
        "    mensaje = ''\n",
        "    for binario in lista_binaria:\n",
        "        caracter = chr(int(binario, 2))\n",
        "        mensaje += caracter\n",
        "    return mensaje"
      ],
      "metadata": {
        "id": "Wcc_DjrIzWnR"
      },
      "execution_count": 6,
      "outputs": []
    },
    {
      "cell_type": "markdown",
      "source": [
        "Probamos con un mensaje de ejemplo:"
      ],
      "metadata": {
        "id": "lMgXqOzwloeJ"
      }
    },
    {
      "cell_type": "markdown",
      "source": [
        "- Transformación a formato binario:"
      ],
      "metadata": {
        "id": "kskd_hmu3HZ1"
      }
    },
    {
      "cell_type": "code",
      "source": [
        "x = transformacion_binaria('ejemplo')\n",
        "x = np.array(x)\n",
        "print(x)"
      ],
      "metadata": {
        "id": "WaiNgbT0lR0T",
        "outputId": "3f2c17be-75ff-4cd7-b0f3-6a2f1d8443ff",
        "colab": {
          "base_uri": "https://localhost:8080/"
        }
      },
      "execution_count": 4,
      "outputs": [
        {
          "output_type": "stream",
          "name": "stdout",
          "text": [
            "['01100101' '01101010' '01100101' '01101101' '01110000' '01101100'\n",
            " '01101111']\n"
          ]
        }
      ]
    },
    {
      "cell_type": "markdown",
      "source": [
        "- Transformación de formato binario a caracteres:"
      ],
      "metadata": {
        "id": "0qeSq2e23J3s"
      }
    },
    {
      "cell_type": "code",
      "source": [
        "y = transformacion_caracteres(x)\n",
        "print(y)"
      ],
      "metadata": {
        "id": "AGnMreIYzZfL",
        "outputId": "690964a0-d532-4b64-f74a-2ccd278787b2",
        "colab": {
          "base_uri": "https://localhost:8080/"
        }
      },
      "execution_count": 7,
      "outputs": [
        {
          "output_type": "stream",
          "name": "stdout",
          "text": [
            "ejemplo\n"
          ]
        }
      ]
    },
    {
      "cell_type": "markdown",
      "source": [
        "## Transformación del mensaje a numérico"
      ],
      "metadata": {
        "id": "TPFtPAVzPsvM"
      }
    },
    {
      "cell_type": "markdown",
      "source": [
        "En nuestro caso, para ver fácilmente la operación del proceso de encriptación, vamos a pasar el mensaje en caracteres a un mensaje compuesto por números, cada letra del abecedario es representada por un valor numérico. Por ejemplo:\n",
        "\n",
        "A: 0\n",
        "B: 1\n",
        "C:2\n",
        "\n",
        "TODO: cifrado César aquí"
      ],
      "metadata": {
        "id": "s5dF8LFc6Oab"
      }
    },
    {
      "cell_type": "code",
      "source": [
        "def caracteres_a_numeros(texto):\n",
        "    def caracter_a_numero(caracter):\n",
        "        if not caracter.isalpha():\n",
        "            return None  # Retornar None si no es un carácter alfabético\n",
        "        return ord(caracter.lower()) - ord('a')\n",
        "\n",
        "    # Convertir cada carácter del texto a su equivalente numérico y guardarlos en el array\n",
        "    numeros = []\n",
        "    for caracter in texto:\n",
        "        numero = caracter_a_numero(caracter)\n",
        "        if numero is not None:\n",
        "            numeros.append(numero)\n",
        "\n",
        "    return np.array(numeros)  # Convertir la lista a un array NumPy"
      ],
      "metadata": {
        "id": "E2ug1CxnPvjl"
      },
      "execution_count": 10,
      "outputs": []
    },
    {
      "cell_type": "markdown",
      "source": [
        "Probamos un mensaje de ejemplo y llamamos a la función anterior."
      ],
      "metadata": {
        "id": "gNvcHkUz7qsV"
      }
    },
    {
      "cell_type": "code",
      "source": [
        "# Cadena de texto de ejemplo\n",
        "texto = 'abcd'\n",
        "\n",
        "# Llamar a la función con el texto dado\n",
        "resultado = caracteres_a_numeros(texto)\n",
        "\n",
        "print(\"Números obtenidos:\", resultado)"
      ],
      "metadata": {
        "id": "ibYJtysM7sPK",
        "outputId": "6e619294-edb9-40ea-d5c7-16e8c813c6ad",
        "colab": {
          "base_uri": "https://localhost:8080/"
        }
      },
      "execution_count": 11,
      "outputs": [
        {
          "output_type": "stream",
          "name": "stdout",
          "text": [
            "Números obtenidos: [0 1 2 3]\n"
          ]
        }
      ]
    },
    {
      "cell_type": "markdown",
      "source": [
        "## Creación de la función de encriptación simétrica"
      ],
      "metadata": {
        "id": "ZjNPF2I7lz2V"
      }
    },
    {
      "cell_type": "markdown",
      "source": [
        "El mensaje en binario se le aplica a una matriz que representa las permutaciones del cubo de Rubik. Concretamente es una matriz con 2x3 dimensiones, para representar las 2 caras permutables del cubo y los 3 ejes `[x,y,z]` sobre los que se puede rotar cada cara.\n",
        "\n",
        "Al tratarse de una estructura cúbica, trabajamos en modulo 4, ya que cada permutación, si se repite el mismo movimiento 4 veces, se vuelve a la posición inicial."
      ],
      "metadata": {
        "id": "C7gt31tLl40j"
      }
    },
    {
      "cell_type": "markdown",
      "source": [
        "**Generación de la matriz en el cuerpo módulo 4**"
      ],
      "metadata": {
        "id": "HrBlSEVZn3eO"
      }
    },
    {
      "cell_type": "markdown",
      "source": [
        "Se utiliza:\n",
        " - La función `randbelow()` de la biblioteca `secrets` para generar números aleatorios **módulo 4**, es decir de 0 a 3.\n",
        "\n",
        "- La función `.array()` de la biblioteca `numpy` para obtener una matriz de `3 filas` y `2 columnas`"
      ],
      "metadata": {
        "id": "fthEBjKW86cF"
      }
    },
    {
      "cell_type": "code",
      "source": [
        "import secrets\n",
        "import numpy as np\n",
        "# Definir las dimensiones de la matriz\n",
        "filas = 3\n",
        "columnas = 2\n",
        "# Crear la matriz con números aleatorios\n",
        "matriz_permutaciones = np.array([[secrets.randbelow(4) for _ in range(columnas)] for _ in range(filas)])"
      ],
      "metadata": {
        "id": "-8-CZc5Hn-CU"
      },
      "execution_count": null,
      "outputs": []
    },
    {
      "cell_type": "markdown",
      "source": [
        "La notación de llamada de la función secrets.randbelow(4) y np.array() sigue la convención de utilizar el punto para acceder a los métodos y atributos dentro de un módulo o biblioteca en Python."
      ],
      "metadata": {
        "id": "oMBVrwYB98Ka"
      }
    },
    {
      "cell_type": "markdown",
      "source": [
        "**Multiplicación de la matriz por el vector del mensaje**\n",
        "\n",
        "TODO: si el mensahe es impar, añadir -1"
      ],
      "metadata": {
        "id": "tJuHx2MvTXyk"
      }
    },
    {
      "cell_type": "markdown",
      "source": [
        "En un cifrado simétrico como este, la matriz (nuestra `llave privada`) tomará valores diferentes cada vez que se encripte un mensaje para una gestión de mensajes más segura.\n",
        "\n",
        " Sin embargo, las dimensiones de la matriz de permutaciones siempre son las mismas, y no tienen por qué coincidir con las dimensiones del mensaje a encriptar, es por ello, que se ha de 'trocear' o hacer 'slicing' del mensaje para que independientemente de sus dimensiones, pueda ser multiplicado matricialmente con la matriz de permutaciones."
      ],
      "metadata": {
        "id": "sHkYcaG0BFNv"
      }
    },
    {
      "cell_type": "code",
      "source": [
        "resultado"
      ],
      "metadata": {
        "id": "5NVVhznfGOX_",
        "outputId": "fea6faad-54da-4515-85da-7c8a6ccd848a",
        "colab": {
          "base_uri": "https://localhost:8080/"
        }
      },
      "execution_count": 19,
      "outputs": [
        {
          "output_type": "execute_result",
          "data": {
            "text/plain": [
              "array([0, 1, 2, 3])"
            ]
          },
          "metadata": {},
          "execution_count": 19
        }
      ]
    },
    {
      "cell_type": "code",
      "source": [
        "cifrado_num = np.dot(matriz_permutaciones, resultado)\n",
        "# Si el tamaño del mensaje es impar, añado un -1 al final\n",
        "if resultado.size %2 != 0:\n",
        "  np.append(resultado,-1)\n",
        "# hago slice del array mensaje\n",
        "for i in range(resultado/2):\n",
        ""
      ],
      "metadata": {
        "id": "PZUr_bfo8l9h"
      },
      "execution_count": null,
      "outputs": []
    },
    {
      "cell_type": "markdown",
      "source": [
        "Pasamos a carácter de nuevo.\n",
        "TODO: si hay -1 = ''\n"
      ],
      "metadata": {
        "id": "0-SO-h20Tbt1"
      }
    },
    {
      "cell_type": "code",
      "source": [
        "def numeros_a_caracteres(numeros):\n",
        "    def numero_a_caracter(numero):\n",
        "        if numero < 0 or numero >= 26:\n",
        "            return None  # Retornar None si el número está fuera del rango válido\n",
        "        return chr(numero + ord('a'))\n",
        "\n",
        "    # Convertir cada número en el array a su equivalente alfabético y guardarlos en una lista\n",
        "    caracteres = []\n",
        "    for numero in numeros:\n",
        "        caracter = numero_a_caracter(numero)\n",
        "        if caracter is not None:\n",
        "            caracteres.append(caracter)\n",
        "\n",
        "    # Unir los caracteres en una cadena de texto\n",
        "    return ''.join(caracteres)\n",
        "cifrado_char = numeros_a_caracteres(cifrado_num)"
      ],
      "metadata": {
        "id": "vJ3bABSC9zhM"
      },
      "execution_count": null,
      "outputs": []
    },
    {
      "cell_type": "code",
      "source": [
        "cifrado_char"
      ],
      "metadata": {
        "id": "mw4aPDG-9nul",
        "outputId": "26adde76-a212-4cfe-d3b2-319656c7e3f3",
        "colab": {
          "base_uri": "https://localhost:8080/",
          "height": 36
        }
      },
      "execution_count": null,
      "outputs": [
        {
          "output_type": "execute_result",
          "data": {
            "text/plain": [
              "'bbd'"
            ],
            "application/vnd.google.colaboratory.intrinsic+json": {
              "type": "string"
            }
          },
          "metadata": {},
          "execution_count": 9
        }
      ]
    },
    {
      "cell_type": "markdown",
      "source": [
        "Para descifrar el mensaje, calculamos la inversa de la matriz transformación:"
      ],
      "metadata": {
        "id": "kNcRPWKcT3Xa"
      }
    },
    {
      "cell_type": "code",
      "source": [
        "import numpy as np\n",
        "import secrets\n",
        "\n",
        "# Asegurarse de que numpy y secrets están importados\n",
        "# La función caracteres_a_numeros ya está definida anteriormente\n",
        "\n",
        "# Definir las dimensiones de la matriz cuadrada\n",
        "n = 2\n",
        "\n",
        "# Crear la matriz de permutaciones cuadrada con números aleatorios\n",
        "matriz_permutaciones = np.array([[secrets.randbelow(10) for _ in range(n)] for _ in range(n)])\n",
        "print(\"Matriz de permutaciones:\\n\", matriz_permutaciones)\n",
        "\n",
        "# Asegurar que la matriz tenga inversa (determinante no nulo)\n",
        "while np.linalg.det(matriz_permutaciones) == 0:\n",
        "    matriz_permutaciones = np.array([[secrets.randbelow(10) for _ in range(n)] for _ in range(n)])\n",
        "\n",
        "print(\"Matriz de permutaciones ajustada (con determinante no nulo):\\n\", matriz_permutaciones)\n",
        "\n",
        "# Calcular la inversa de la matriz de permutaciones\n",
        "matriz_inversa = np.linalg.inv(matriz_permutaciones)\n",
        "print(\"Matriz inversa:\\n\", matriz_inversa)\n",
        "\n",
        "# Usar la función caracteres_a_numeros para obtener el vector numérico del texto\n",
        "texto = 'ab'  # Este es el texto de ejemplo\n",
        "vector_numerico = caracteres_a_numeros(texto)\n",
        "print(\"Vector numérico:\", vector_numerico)\n",
        "\n",
        "# Multiplicar la matriz de permutaciones por el vector numérico para obtener el cifrado numérico\n",
        "cifrado_num = np.dot(matriz_permutaciones, vector_numerico)\n",
        "print(\"Cifrado numérico:\", cifrado_num)\n",
        "\n",
        "# Multiplicar la matriz inversa por el cifrado numérico para deshacer el cifrado\n",
        "resultado_descifrado = np.dot(matriz_inversa, cifrado_num)\n",
        "print(\"Resultado descifrado (numérico):\", resultado_descifrado)\n",
        "\n",
        "# Convertir el resultado descifrado a caracteres (opcional)\n",
        "resultado_descifrado_char = numeros_a_caracteres(np.round(resultado_descifrado).astype(int))\n",
        "print(\"Resultado descifrado (texto):\", resultado_descifrado_char)\n"
      ],
      "metadata": {
        "id": "CJRzL7vB9u2h",
        "outputId": "59fbf64c-19e1-4069-8460-608a27937455",
        "colab": {
          "base_uri": "https://localhost:8080/"
        }
      },
      "execution_count": null,
      "outputs": [
        {
          "output_type": "stream",
          "name": "stdout",
          "text": [
            "Matriz de permutaciones:\n",
            " [[9 8]\n",
            " [5 7]]\n",
            "Matriz de permutaciones ajustada (con determinante no nulo):\n",
            " [[9 8]\n",
            " [5 7]]\n",
            "Matriz inversa:\n",
            " [[ 0.30434783 -0.34782609]\n",
            " [-0.2173913   0.39130435]]\n",
            "Vector numérico: [0 1]\n",
            "Cifrado numérico: [8 7]\n",
            "Resultado descifrado (numérico): [0. 1.]\n",
            "Resultado descifrado (texto): ab\n"
          ]
        }
      ]
    },
    {
      "cell_type": "code",
      "source": [
        "import numpy as np\n",
        "\n",
        "# Definimos el vector v y la matriz_permutaciones\n",
        "v = np.array(['0110', '0101'])\n",
        "matriz_permutaciones = np.array([[2, 1], [0, 2], [0, 2]])\n",
        "\n",
        "# Convertimos el vector a un array de enteros\n",
        "v_enteros = np.array([int(x, 2) for x in v])\n",
        "\n",
        "# Realizamos la multiplicación\n",
        "resultado = np.dot(matriz_permutaciones, v_enteros)\n",
        "\n",
        "print(resultado)\n"
      ],
      "metadata": {
        "id": "JQziKPOF_d3e"
      },
      "execution_count": null,
      "outputs": []
    },
    {
      "cell_type": "markdown",
      "source": [
        "**División del mensaje para la operación matricial**"
      ],
      "metadata": {
        "id": "hwGkOr8alqFT"
      }
    },
    {
      "cell_type": "code",
      "source": [
        "for elemento in x:\n",
        "  v = np.array([elemento[:4], elemento[4:]])\n",
        "  np.dot(matriz_permutaciones,v)\n"
      ],
      "metadata": {
        "id": "F98fxQ3Uxh3-"
      },
      "execution_count": null,
      "outputs": []
    },
    {
      "cell_type": "markdown",
      "source": [
        "## Otros enfoques"
      ],
      "metadata": {
        "id": "10MdHOQVvUJg"
      }
    },
    {
      "cell_type": "code",
      "source": [
        "import random\n",
        "\n",
        "# Definimos los colores posibles en un cubo de Rubik 2x2x2\n",
        "colores = ['R', 'B', 'G', 'Y', 'W', 'O']\n",
        "\n",
        "# Generamos una posición aleatoria del cubo de Rubik 2x2x2\n",
        "posicion_aleatoria = [[[random.choice(colores) for _ in range(2)] for _ in range(2)] for _ in range(2)]\n",
        "\n",
        "# Mostramos la posición aleatoria generada\n",
        "print(\"Posición aleatoria en el cubo de Rubik 2x2x2:\")\n",
        "for capa in posicion_aleatoria:\n",
        "    for fila in capa:\n",
        "        print(' '.join(fila))\n",
        "    print()"
      ],
      "metadata": {
        "id": "WaCPwqB9lyQ1"
      },
      "execution_count": null,
      "outputs": []
    },
    {
      "cell_type": "code",
      "source": [
        "import numpy as np\n",
        "\n",
        "# Definimos una función para generar una posición aleatoria del cubo de Rubik 2x2x2\n",
        "def generar_posicion_aleatoria():\n",
        "    # Definimos los colores posibles como números\n",
        "    colores = [0, 1, 2, 3, 4, 5]\n",
        "\n",
        "    # Generamos una matriz 2x2 para cada cara del cubo\n",
        "    cara_frontal = np.random.choice(colores, size=(2, 2))\n",
        "    cara_trasera = np.random.choice(colores, size=(2, 2))\n",
        "    cara_superior = np.random.choice(colores, size=(2, 2))\n",
        "    cara_inferior = np.random.choice(colores, size=(2, 2))\n",
        "    cara_izquierda = np.random.choice(colores, size=(2, 2))\n",
        "    cara_derecha = np.random.choice(colores, size=(2, 2))\n",
        "\n",
        "    # Devolvemos todas las caras en un arreglo multidimensional\n",
        "    return [cara_frontal, cara_trasera, cara_superior, cara_inferior, cara_izquierda, cara_derecha]\n",
        "\n",
        "# Generamos una posición aleatoria\n",
        "posicion_aleatoria = generar_posicion_aleatoria()\n",
        "\n",
        "# Mostramos la posición aleatoria generada\n",
        "print(\"Posición aleatoria en el cubo de Rubik 2x2x2:\")\n",
        "for cara in posicion_aleatoria:\n",
        "    print(cara)\n"
      ],
      "metadata": {
        "id": "yMUzOK0ppMa-"
      },
      "execution_count": null,
      "outputs": []
    },
    {
      "cell_type": "code",
      "source": [
        "import numpy as np\n",
        "\n",
        "# Definimos las operaciones de giro para cada cara\n",
        "def giro_cara_horario(cara):\n",
        "    return np.rot90(cara, k=-1)\n",
        "\n",
        "def giro_cara_antihorario(cara):\n",
        "    return np.rot90(cara, k=1)\n",
        "\n",
        "# Generamos una posición aleatoria del cubo de Rubik 2x2x2\n",
        "def generar_posicion_aleatoria():\n",
        "    colores = [0, 1, 2, 3, 4, 5]\n",
        "    cara_frontal = np.random.choice(colores, size=(2, 2))\n",
        "    cara_trasera = np.random.choice(colores, size=(2, 2))\n",
        "    cara_superior = np.random.choice(colores, size=(2, 2))\n",
        "    cara_inferior = np.random.choice(colores, size=(2, 2))\n",
        "    cara_izquierda = np.random.choice(colores, size=(2, 2))\n",
        "    cara_derecha = np.random.choice(colores, size=(2, 2))\n",
        "    return [cara_frontal, cara_trasera, cara_superior, cara_inferior, cara_izquierda, cara_derecha]\n",
        "\n",
        "# Mostramos el estado del cubo de Rubik 2x2x2\n",
        "def mostrar_estado(posicion):\n",
        "    print(\"Estado actual del cubo de Rubik 2x2x2:\")\n",
        "    for cara in posicion:\n",
        "        print(cara)\n",
        "\n",
        "# Generamos una posición aleatoria\n",
        "posicion = generar_posicion_aleatoria()\n",
        "mostrar_estado(posicion)\n",
        "\n",
        "# Realizamos un giro en la cara frontal en sentido horario\n",
        "posicion[0] = giro_cara_horario(posicion[0])\n",
        "\n",
        "# Mostramos el estado del cubo después del giro\n",
        "print(\"\\nDespués del giro en la cara frontal en sentido horario:\")\n",
        "mostrar_estado(posicion)\n"
      ],
      "metadata": {
        "id": "AZXI_2uZp6Pn"
      },
      "execution_count": null,
      "outputs": []
    },
    {
      "cell_type": "code",
      "source": [
        "!pip3 install opencv-python"
      ],
      "metadata": {
        "id": "me9vOI3wwg-r"
      },
      "execution_count": null,
      "outputs": []
    },
    {
      "cell_type": "code",
      "source": [
        "!pip uninstall rubik -y"
      ],
      "metadata": {
        "id": "sJM4bQ30s7zZ"
      },
      "execution_count": null,
      "outputs": []
    },
    {
      "cell_type": "code",
      "source": [
        "!pip install rubik-cube"
      ],
      "metadata": {
        "id": "m6ENOP5ErDQZ"
      },
      "execution_count": null,
      "outputs": []
    },
    {
      "cell_type": "code",
      "source": [
        "from rubik.cube import Cube\n",
        "cubo = Cube(\"OOOOOOOOOYYYWWWGGGBBBYYYWWWGGGBBBYYYWWWGGGBBBRRRRRRRRR\")\n",
        "print(c)"
      ],
      "metadata": {
        "id": "91D_VwAfrFIp"
      },
      "execution_count": null,
      "outputs": []
    },
    {
      "cell_type": "code",
      "source": [
        "import scrambler222\n",
        "\n",
        "# Generar un scramble aleatorio para un cubo 2x2x2 (WCA)\n",
        "scramble_wca = scrambler222.get_WCA_scramble(\"2x2x2\")\n",
        "\n",
        "# Generar un scramble óptimo para un cubo 2x2x2\n",
        "scramble_optimo = scrambler222.get_optimal_scramble(\"2x2x2\")\n",
        "\n",
        "print(\"Scramble aleatorio (WCA) para un cubo 2x2x2:\")\n",
        "print(scramble_wca)\n",
        "\n",
        "print(\"\\nScramble óptimo para un cubo 2x2x2:\")\n",
        "print(scramble_optimo)\n"
      ],
      "metadata": {
        "id": "ncrG7fygsskb"
      },
      "execution_count": null,
      "outputs": []
    }
  ]
}