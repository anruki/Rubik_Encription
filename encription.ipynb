{
  "nbformat": 4,
  "nbformat_minor": 0,
  "metadata": {
    "colab": {
      "provenance": [],
      "authorship_tag": "ABX9TyN/kw8PTCayIDV3oSJoQcx2",
      "include_colab_link": true
    },
    "kernelspec": {
      "name": "python3",
      "display_name": "Python 3"
    },
    "language_info": {
      "name": "python"
    }
  },
  "cells": [
    {
      "cell_type": "markdown",
      "metadata": {
        "id": "view-in-github",
        "colab_type": "text"
      },
      "source": [
        "<a href=\"https://colab.research.google.com/github/anruki/Rubik_Encription/blob/main/encription.ipynb\" target=\"_parent\"><img src=\"https://colab.research.google.com/assets/colab-badge.svg\" alt=\"Open In Colab\"/></a>"
      ]
    },
    {
      "cell_type": "markdown",
      "source": [
        "# Modelo de cifrado empleando las permutaciones del cubo de Rubik"
      ],
      "metadata": {
        "id": "16Q0FUv7h-Y9"
      }
    },
    {
      "cell_type": "markdown",
      "source": [
        "### Transformación del mensaje a binario"
      ],
      "metadata": {
        "id": "e5Ris-9WlgOc"
      }
    },
    {
      "cell_type": "markdown",
      "source": [
        "El primer paso será crear una función que transforme el mensaje a binario."
      ],
      "metadata": {
        "id": "4JT7uBgPiFKx"
      }
    },
    {
      "cell_type": "code",
      "source": [
        "def transformacion_binaria(mensaje):\n",
        "    binarios = [format(ord(letra), '08b') for letra in mensaje]\n",
        "    return binarios\n"
      ],
      "metadata": {
        "id": "7Btszclgkaoj"
      },
      "execution_count": 79,
      "outputs": []
    },
    {
      "cell_type": "markdown",
      "source": [
        "Para representar 26 letras del alfabeto inglés, se necesita un número entero de bits que sea igual o mayor al logaritmo en base 2 de 26 (log₂(26)).\n",
        "\n",
        "El logaritmo en base 2 de un número N nos dice cuántos bits necesitaríamos para representar N valores distintos. En este caso, el logaritmo en base 2 de 26 es aproximadamente 4.7. Dado que necesitamos un número entero de bits, redondearemos hacia arriba a 5. Por lo tanto, necesitarías al menos 5 bits para representar 26 letras del alfabeto inglés de forma única.\n",
        "\n",
        "Siempre es recomendable redondear hacia arriba para asegurarnos de tener suficientes bits para representar todos los elementos de manera única. En este caso, redondeamos hacia arriba a 5 bits para representar 26 letras del alfabeto inglés."
      ],
      "metadata": {
        "id": "_TMxWmY-6ALw"
      }
    },
    {
      "cell_type": "markdown",
      "source": [
        "Y su función inversa para posteriormente poder decodificar el mensaje:"
      ],
      "metadata": {
        "id": "rJd6GS5X0D2z"
      }
    },
    {
      "cell_type": "code",
      "source": [
        "def transformacion_caracteres(lista_binaria):\n",
        "    mensaje = ''\n",
        "    for binario in lista_binaria:\n",
        "        caracter = chr(int(binario, 2))\n",
        "        mensaje += caracter\n",
        "    return mensaje"
      ],
      "metadata": {
        "id": "Wcc_DjrIzWnR"
      },
      "execution_count": 81,
      "outputs": []
    },
    {
      "cell_type": "markdown",
      "source": [
        "Aquí, bytearray(x, \"utf-8\") crea un objeto bytearray a partir de la cadena x utilizando la codificación UTF-8. Luego, format(c, '08b') formatea cada byte en la representación binaria de 5 bits ('05b') y se genera una lista de estas representaciones binarias.\n",
        "\n",
        "Este código generará una lista de representaciones binarias de cada byte en la codificación UTF-8 de la cadena x."
      ],
      "metadata": {
        "id": "nwZQdOp4kbbO"
      }
    },
    {
      "cell_type": "markdown",
      "source": [
        "Probamos con un mensaje de ejemplo:"
      ],
      "metadata": {
        "id": "lMgXqOzwloeJ"
      }
    },
    {
      "cell_type": "code",
      "source": [
        "x = transformacion_binaria('ejemplo')\n",
        "x = np.array(x)\n",
        "print(x)"
      ],
      "metadata": {
        "id": "WaiNgbT0lR0T",
        "outputId": "2632631f-dd2c-4e28-d7a0-a46c86576cf2",
        "colab": {
          "base_uri": "https://localhost:8080/"
        }
      },
      "execution_count": 96,
      "outputs": [
        {
          "output_type": "stream",
          "name": "stdout",
          "text": [
            "['01100101' '01101010' '01100101' '01101101' '01110000' '01101100'\n",
            " '01101111']\n"
          ]
        }
      ]
    },
    {
      "cell_type": "code",
      "source": [
        "y = transformacion_caracteres(x)\n",
        "print(y)"
      ],
      "metadata": {
        "colab": {
          "base_uri": "https://localhost:8080/"
        },
        "id": "AGnMreIYzZfL",
        "outputId": "08c0d510-d386-4525-aa5b-3931af4d76b3"
      },
      "execution_count": 83,
      "outputs": [
        {
          "output_type": "stream",
          "name": "stdout",
          "text": [
            "ejemplo\n"
          ]
        }
      ]
    },
    {
      "cell_type": "code",
      "source": [
        "# [bin(ord(c))[2:] for c in 'ejemplo']"
      ],
      "metadata": {
        "colab": {
          "base_uri": "https://localhost:8080/"
        },
        "id": "ywTt1cl9m-WN",
        "outputId": "5570a01b-e856-4647-8a14-ebc5c1120abb"
      },
      "execution_count": 9,
      "outputs": [
        {
          "output_type": "execute_result",
          "data": {
            "text/plain": [
              "['1100101', '1101010', '1100101', '1101101', '1110000', '1101100', '1101111']"
            ]
          },
          "metadata": {},
          "execution_count": 9
        }
      ]
    },
    {
      "cell_type": "markdown",
      "source": [
        "## Creación de la función de encriptación simétrica"
      ],
      "metadata": {
        "id": "ZjNPF2I7lz2V"
      }
    },
    {
      "cell_type": "markdown",
      "source": [
        "El mensaje en binario se le aplica a una matriz que representa las permutaciones del cubo de Rubik. Concretamente es una matriz con 2x3 dimensiones, para representar las 2 caras permutables del cubo y los 3 ejes `[x,y,z]` sobre los que se puede rotar cada cara.\n",
        "\n",
        "Al tratarse de una estructura cúbica, trabajamos en modulo 4, ya que cada permutación, si se repite el mismo movimiento 4 veces, se vuelve a la posición inicial."
      ],
      "metadata": {
        "id": "C7gt31tLl40j"
      }
    },
    {
      "cell_type": "markdown",
      "source": [
        "**Generación de números aleatorios seguros**"
      ],
      "metadata": {
        "id": "VbbcVxcvnpCG"
      }
    },
    {
      "cell_type": "markdown",
      "source": [
        "Utilizamos la biblioteca `secrets` de python para generar números aleatorios que no estén en memoria."
      ],
      "metadata": {
        "id": "hiA7z4FQnsK7"
      }
    },
    {
      "cell_type": "code",
      "source": [
        "import secrets\n",
        "\n",
        "# Generar un número aleatorio seguro en el rango especificado\n",
        "num_aleatorio = secrets.randbelow(100)  # Genera un número aleatorio entre 0 y 99 (inclusive)\n",
        "print(\"Número aleatorio:\", num_aleatorio)\n",
        "\n",
        "# También puedes generar números aleatorios con un número específico de bits\n",
        "num_aleatorio_bits = secrets.randbits(16)  # Genera un número aleatorio de 16 bits\n",
        "print(\"Número aleatorio (16 bits):\", num_aleatorio_bits)"
      ],
      "metadata": {
        "id": "ryHnbmqxm44Q",
        "outputId": "ea7d9dcb-68ba-4e12-88f5-14331d3deec1",
        "colab": {
          "base_uri": "https://localhost:8080/"
        }
      },
      "execution_count": null,
      "outputs": [
        {
          "output_type": "stream",
          "name": "stdout",
          "text": [
            "Número aleatorio: 24\n",
            "Número aleatorio (16 bits): 44146\n"
          ]
        }
      ]
    },
    {
      "cell_type": "markdown",
      "source": [
        "**Generación de la matriz en el cuerpo módulo 4**"
      ],
      "metadata": {
        "id": "HrBlSEVZn3eO"
      }
    },
    {
      "cell_type": "code",
      "source": [
        "import secrets\n",
        "# Definir las dimensiones de la matriz\n",
        "filas = 3\n",
        "columnas = 2\n",
        "# Crear la matriz con números aleatorios\n",
        "matriz_permutaciones = np.array([[secrets.randbelow(4) for _ in range(columnas)] for _ in range(filas)])"
      ],
      "metadata": {
        "id": "-8-CZc5Hn-CU"
      },
      "execution_count": 92,
      "outputs": []
    },
    {
      "cell_type": "code",
      "source": [
        "matriz_permutaciones"
      ],
      "metadata": {
        "colab": {
          "base_uri": "https://localhost:8080/"
        },
        "id": "yVRo4JjelgZC",
        "outputId": "07d9f389-6730-410d-9c3a-b21bb9ef78da"
      },
      "execution_count": 93,
      "outputs": [
        {
          "output_type": "execute_result",
          "data": {
            "text/plain": [
              "array([[2, 1],\n",
              "       [0, 2],\n",
              "       [0, 2]])"
            ]
          },
          "metadata": {},
          "execution_count": 93
        }
      ]
    },
    {
      "cell_type": "code",
      "source": [
        "import numpy as np\n",
        "\n",
        "# Definimos la matriz y el vector como arrays de NumPy\n",
        "matriz = np.array([[1, 2], [0, 3], [1, 2]])\n",
        "vector = np.array([1, 2])\n",
        "\n",
        "# Realizamos la multiplicación\n",
        "resultado = np.dot(matriz, vector)\n",
        "\n",
        "print(resultado)\n"
      ],
      "metadata": {
        "id": "PZUr_bfo8l9h",
        "outputId": "7c13b171-7497-48e3-9760-c62c0dfb53eb",
        "colab": {
          "base_uri": "https://localhost:8080/"
        }
      },
      "execution_count": 89,
      "outputs": [
        {
          "output_type": "stream",
          "name": "stdout",
          "text": [
            "[5 6 5]\n"
          ]
        }
      ]
    },
    {
      "cell_type": "code",
      "source": [
        "x[0]"
      ],
      "metadata": {
        "id": "vJ3bABSC9zhM",
        "outputId": "d81ff840-ac9a-4b84-c4b9-6b2aa2bd3688",
        "colab": {
          "base_uri": "https://localhost:8080/",
          "height": 36
        }
      },
      "execution_count": 100,
      "outputs": [
        {
          "output_type": "execute_result",
          "data": {
            "text/plain": [
              "'01100101'"
            ],
            "application/vnd.google.colaboratory.intrinsic+json": {
              "type": "string"
            }
          },
          "metadata": {},
          "execution_count": 100
        }
      ]
    },
    {
      "cell_type": "code",
      "source": [
        "x[0][:4]"
      ],
      "metadata": {
        "id": "mw4aPDG-9nul",
        "outputId": "71ce5854-3d61-40f3-9b8b-56fadd075246",
        "colab": {
          "base_uri": "https://localhost:8080/",
          "height": 36
        }
      },
      "execution_count": 101,
      "outputs": [
        {
          "output_type": "execute_result",
          "data": {
            "text/plain": [
              "'0110'"
            ],
            "application/vnd.google.colaboratory.intrinsic+json": {
              "type": "string"
            }
          },
          "metadata": {},
          "execution_count": 101
        }
      ]
    },
    {
      "cell_type": "code",
      "source": [
        "x[0][4:]"
      ],
      "metadata": {
        "id": "CJRzL7vB9u2h",
        "outputId": "1a2001aa-5a05-44b2-c87e-a6b053aa3130",
        "colab": {
          "base_uri": "https://localhost:8080/",
          "height": 36
        }
      },
      "execution_count": 102,
      "outputs": [
        {
          "output_type": "execute_result",
          "data": {
            "text/plain": [
              "'0101'"
            ],
            "application/vnd.google.colaboratory.intrinsic+json": {
              "type": "string"
            }
          },
          "metadata": {},
          "execution_count": 102
        }
      ]
    },
    {
      "cell_type": "code",
      "source": [
        "v = np.array([x[0][:4],x[0][4:]])"
      ],
      "metadata": {
        "id": "HGe_tglj97HS"
      },
      "execution_count": 104,
      "outputs": []
    },
    {
      "cell_type": "code",
      "source": [
        "v"
      ],
      "metadata": {
        "id": "1WXdhOex9_1k",
        "outputId": "27ee028c-f9e7-48fb-f30d-5f1847fee6c9",
        "colab": {
          "base_uri": "https://localhost:8080/"
        }
      },
      "execution_count": 105,
      "outputs": [
        {
          "output_type": "execute_result",
          "data": {
            "text/plain": [
              "array(['0110', '0101'], dtype='<U4')"
            ]
          },
          "metadata": {},
          "execution_count": 105
        }
      ]
    },
    {
      "cell_type": "code",
      "source": [
        "import numpy as np\n",
        "\n",
        "# Definimos el vector v y la matriz_permutaciones\n",
        "v = np.array(['0110', '0101'])\n",
        "matriz_permutaciones = np.array([[2, 1], [0, 2], [0, 2]])\n",
        "\n",
        "# Convertimos el vector a un array de enteros\n",
        "v_enteros = np.array([int(x, 2) for x in v])\n",
        "\n",
        "# Realizamos la multiplicación\n",
        "resultado = np.dot(matriz_permutaciones, v_enteros)\n",
        "\n",
        "print(resultado)\n"
      ],
      "metadata": {
        "id": "JQziKPOF_d3e",
        "outputId": "3735d53c-f457-4b2d-e1ab-47f60ea32e01",
        "colab": {
          "base_uri": "https://localhost:8080/"
        }
      },
      "execution_count": 108,
      "outputs": [
        {
          "output_type": "stream",
          "name": "stdout",
          "text": [
            "[17 10 10]\n"
          ]
        }
      ]
    },
    {
      "cell_type": "markdown",
      "source": [
        "**División del mensaje para la operación matricial**"
      ],
      "metadata": {
        "id": "hwGkOr8alqFT"
      }
    },
    {
      "cell_type": "code",
      "source": [
        "for elemento in x:\n",
        "  v = np.array([elemento[:4], elemento[4:]])\n",
        "  np.dot(matriz_permutaciones,v)\n"
      ],
      "metadata": {
        "colab": {
          "base_uri": "https://localhost:8080/",
          "height": 176
        },
        "id": "F98fxQ3Uxh3-",
        "outputId": "e3f11649-886b-4eed-ee61-b2f7820cb65f"
      },
      "execution_count": 106,
      "outputs": [
        {
          "output_type": "error",
          "ename": "ValueError",
          "evalue": "data type must provide an itemsize",
          "traceback": [
            "\u001b[0;31m---------------------------------------------------------------------------\u001b[0m",
            "\u001b[0;31mValueError\u001b[0m                                Traceback (most recent call last)",
            "\u001b[0;32m<ipython-input-106-ae6f837707eb>\u001b[0m in \u001b[0;36m<cell line: 1>\u001b[0;34m()\u001b[0m\n\u001b[1;32m      1\u001b[0m \u001b[0;32mfor\u001b[0m \u001b[0melemento\u001b[0m \u001b[0;32min\u001b[0m \u001b[0mx\u001b[0m\u001b[0;34m:\u001b[0m\u001b[0;34m\u001b[0m\u001b[0;34m\u001b[0m\u001b[0m\n\u001b[1;32m      2\u001b[0m   \u001b[0mv\u001b[0m \u001b[0;34m=\u001b[0m \u001b[0mnp\u001b[0m\u001b[0;34m.\u001b[0m\u001b[0marray\u001b[0m\u001b[0;34m(\u001b[0m\u001b[0;34m[\u001b[0m\u001b[0melemento\u001b[0m\u001b[0;34m[\u001b[0m\u001b[0;34m:\u001b[0m\u001b[0;36m4\u001b[0m\u001b[0;34m]\u001b[0m\u001b[0;34m,\u001b[0m \u001b[0melemento\u001b[0m\u001b[0;34m[\u001b[0m\u001b[0;36m4\u001b[0m\u001b[0;34m:\u001b[0m\u001b[0;34m]\u001b[0m\u001b[0;34m]\u001b[0m\u001b[0;34m)\u001b[0m\u001b[0;34m\u001b[0m\u001b[0;34m\u001b[0m\u001b[0m\n\u001b[0;32m----> 3\u001b[0;31m   \u001b[0mnp\u001b[0m\u001b[0;34m.\u001b[0m\u001b[0mdot\u001b[0m\u001b[0;34m(\u001b[0m\u001b[0mmatriz_permutaciones\u001b[0m\u001b[0;34m,\u001b[0m\u001b[0mv\u001b[0m\u001b[0;34m)\u001b[0m\u001b[0;34m\u001b[0m\u001b[0;34m\u001b[0m\u001b[0m\n\u001b[0m",
            "\u001b[0;31mValueError\u001b[0m: data type must provide an itemsize"
          ]
        }
      ]
    },
    {
      "cell_type": "markdown",
      "source": [
        "## Otros enfoques"
      ],
      "metadata": {
        "id": "10MdHOQVvUJg"
      }
    },
    {
      "cell_type": "code",
      "source": [
        "import random\n",
        "\n",
        "# Definimos los colores posibles en un cubo de Rubik 2x2x2\n",
        "colores = ['R', 'B', 'G', 'Y', 'W', 'O']\n",
        "\n",
        "# Generamos una posición aleatoria del cubo de Rubik 2x2x2\n",
        "posicion_aleatoria = [[[random.choice(colores) for _ in range(2)] for _ in range(2)] for _ in range(2)]\n",
        "\n",
        "# Mostramos la posición aleatoria generada\n",
        "print(\"Posición aleatoria en el cubo de Rubik 2x2x2:\")\n",
        "for capa in posicion_aleatoria:\n",
        "    for fila in capa:\n",
        "        print(' '.join(fila))\n",
        "    print()"
      ],
      "metadata": {
        "colab": {
          "base_uri": "https://localhost:8080/"
        },
        "id": "WaCPwqB9lyQ1",
        "outputId": "df12b965-6cb9-415d-f639-31e1529712e7"
      },
      "execution_count": 10,
      "outputs": [
        {
          "output_type": "stream",
          "name": "stdout",
          "text": [
            "Posición aleatoria en el cubo de Rubik 2x2x2:\n",
            "Y B\n",
            "O Y\n",
            "\n",
            "R W\n",
            "R O\n",
            "\n"
          ]
        }
      ]
    },
    {
      "cell_type": "code",
      "source": [
        "import numpy as np\n",
        "\n",
        "# Definimos una función para generar una posición aleatoria del cubo de Rubik 2x2x2\n",
        "def generar_posicion_aleatoria():\n",
        "    # Definimos los colores posibles como números\n",
        "    colores = [0, 1, 2, 3, 4, 5]\n",
        "\n",
        "    # Generamos una matriz 2x2 para cada cara del cubo\n",
        "    cara_frontal = np.random.choice(colores, size=(2, 2))\n",
        "    cara_trasera = np.random.choice(colores, size=(2, 2))\n",
        "    cara_superior = np.random.choice(colores, size=(2, 2))\n",
        "    cara_inferior = np.random.choice(colores, size=(2, 2))\n",
        "    cara_izquierda = np.random.choice(colores, size=(2, 2))\n",
        "    cara_derecha = np.random.choice(colores, size=(2, 2))\n",
        "\n",
        "    # Devolvemos todas las caras en un arreglo multidimensional\n",
        "    return [cara_frontal, cara_trasera, cara_superior, cara_inferior, cara_izquierda, cara_derecha]\n",
        "\n",
        "# Generamos una posición aleatoria\n",
        "posicion_aleatoria = generar_posicion_aleatoria()\n",
        "\n",
        "# Mostramos la posición aleatoria generada\n",
        "print(\"Posición aleatoria en el cubo de Rubik 2x2x2:\")\n",
        "for cara in posicion_aleatoria:\n",
        "    print(cara)\n"
      ],
      "metadata": {
        "colab": {
          "base_uri": "https://localhost:8080/"
        },
        "id": "yMUzOK0ppMa-",
        "outputId": "1efb1c06-1f9d-4011-eb19-13c7a744a032"
      },
      "execution_count": 12,
      "outputs": [
        {
          "output_type": "stream",
          "name": "stdout",
          "text": [
            "Posición aleatoria en el cubo de Rubik 2x2x2:\n",
            "[[2 2]\n",
            " [5 5]]\n",
            "[[1 2]\n",
            " [3 2]]\n",
            "[[0 3]\n",
            " [4 2]]\n",
            "[[5 1]\n",
            " [0 4]]\n",
            "[[3 2]\n",
            " [2 0]]\n",
            "[[0 5]\n",
            " [3 0]]\n"
          ]
        }
      ]
    },
    {
      "cell_type": "code",
      "source": [
        "import numpy as np\n",
        "\n",
        "# Definimos las operaciones de giro para cada cara\n",
        "def giro_cara_horario(cara):\n",
        "    return np.rot90(cara, k=-1)\n",
        "\n",
        "def giro_cara_antihorario(cara):\n",
        "    return np.rot90(cara, k=1)\n",
        "\n",
        "# Generamos una posición aleatoria del cubo de Rubik 2x2x2\n",
        "def generar_posicion_aleatoria():\n",
        "    colores = [0, 1, 2, 3, 4, 5]\n",
        "    cara_frontal = np.random.choice(colores, size=(2, 2))\n",
        "    cara_trasera = np.random.choice(colores, size=(2, 2))\n",
        "    cara_superior = np.random.choice(colores, size=(2, 2))\n",
        "    cara_inferior = np.random.choice(colores, size=(2, 2))\n",
        "    cara_izquierda = np.random.choice(colores, size=(2, 2))\n",
        "    cara_derecha = np.random.choice(colores, size=(2, 2))\n",
        "    return [cara_frontal, cara_trasera, cara_superior, cara_inferior, cara_izquierda, cara_derecha]\n",
        "\n",
        "# Mostramos el estado del cubo de Rubik 2x2x2\n",
        "def mostrar_estado(posicion):\n",
        "    print(\"Estado actual del cubo de Rubik 2x2x2:\")\n",
        "    for cara in posicion:\n",
        "        print(cara)\n",
        "\n",
        "# Generamos una posición aleatoria\n",
        "posicion = generar_posicion_aleatoria()\n",
        "mostrar_estado(posicion)\n",
        "\n",
        "# Realizamos un giro en la cara frontal en sentido horario\n",
        "posicion[0] = giro_cara_horario(posicion[0])\n",
        "\n",
        "# Mostramos el estado del cubo después del giro\n",
        "print(\"\\nDespués del giro en la cara frontal en sentido horario:\")\n",
        "mostrar_estado(posicion)\n"
      ],
      "metadata": {
        "colab": {
          "base_uri": "https://localhost:8080/"
        },
        "id": "AZXI_2uZp6Pn",
        "outputId": "f34a793d-39c7-40bf-f47c-439e7dd703ca"
      },
      "execution_count": 13,
      "outputs": [
        {
          "output_type": "stream",
          "name": "stdout",
          "text": [
            "Estado actual del cubo de Rubik 2x2x2:\n",
            "[[1 1]\n",
            " [2 4]]\n",
            "[[3 1]\n",
            " [1 2]]\n",
            "[[4 2]\n",
            " [1 1]]\n",
            "[[3 1]\n",
            " [3 2]]\n",
            "[[5 0]\n",
            " [4 3]]\n",
            "[[0 3]\n",
            " [1 1]]\n",
            "\n",
            "Después del giro en la cara frontal en sentido horario:\n",
            "Estado actual del cubo de Rubik 2x2x2:\n",
            "[[2 1]\n",
            " [4 1]]\n",
            "[[3 1]\n",
            " [1 2]]\n",
            "[[4 2]\n",
            " [1 1]]\n",
            "[[3 1]\n",
            " [3 2]]\n",
            "[[5 0]\n",
            " [4 3]]\n",
            "[[0 3]\n",
            " [1 1]]\n"
          ]
        }
      ]
    },
    {
      "cell_type": "code",
      "source": [
        "!pip3 install opencv-python"
      ],
      "metadata": {
        "colab": {
          "base_uri": "https://localhost:8080/"
        },
        "id": "me9vOI3wwg-r",
        "outputId": "d4b9ccfc-a3fc-4f14-8c4d-704169b08fca"
      },
      "execution_count": 50,
      "outputs": [
        {
          "output_type": "stream",
          "name": "stdout",
          "text": [
            "Requirement already satisfied: opencv-python in /usr/local/lib/python3.10/dist-packages (4.8.0.76)\n",
            "Requirement already satisfied: numpy>=1.21.2 in /usr/local/lib/python3.10/dist-packages (from opencv-python) (1.25.2)\n"
          ]
        }
      ]
    },
    {
      "cell_type": "code",
      "source": [
        "!pip uninstall rubik -y"
      ],
      "metadata": {
        "colab": {
          "base_uri": "https://localhost:8080/"
        },
        "id": "sJM4bQ30s7zZ",
        "outputId": "f0d05e8e-0341-4f6b-88d9-58e5301f1bb2"
      },
      "execution_count": 32,
      "outputs": [
        {
          "output_type": "stream",
          "name": "stdout",
          "text": [
            "Found existing installation: Rubik 0.0.1\n",
            "Uninstalling Rubik-0.0.1:\n",
            "  Successfully uninstalled Rubik-0.0.1\n"
          ]
        }
      ]
    },
    {
      "cell_type": "code",
      "source": [
        "!pip install rubik-cube"
      ],
      "metadata": {
        "colab": {
          "base_uri": "https://localhost:8080/"
        },
        "id": "m6ENOP5ErDQZ",
        "outputId": "e080515e-1c17-4caa-fa74-01a4ebb6a801"
      },
      "execution_count": 33,
      "outputs": [
        {
          "output_type": "stream",
          "name": "stdout",
          "text": [
            "Requirement already satisfied: rubik-cube in /usr/local/lib/python3.10/dist-packages (0.0.2)\n"
          ]
        }
      ]
    },
    {
      "cell_type": "code",
      "source": [
        "from rubik.cube import Cube\n",
        "cubo = Cube(\"OOOOOOOOOYYYWWWGGGBBBYYYWWWGGGBBBYYYWWWGGGBBBRRRRRRRRR\")\n",
        "print(c)"
      ],
      "metadata": {
        "colab": {
          "base_uri": "https://localhost:8080/"
        },
        "id": "91D_VwAfrFIp",
        "outputId": "10f32dc5-f9da-450b-d6ae-ec769a6d0b9f"
      },
      "execution_count": 53,
      "outputs": [
        {
          "output_type": "stream",
          "name": "stdout",
          "text": [
            "    OOO\n",
            "    OOO\n",
            "    OOO\n",
            "YYY WWW GGG BBB\n",
            "YYY WWW GGG BBB\n",
            "YYY WWW GGG BBB\n",
            "    RRR\n",
            "    RRR\n",
            "    RRR\n"
          ]
        }
      ]
    },
    {
      "cell_type": "code",
      "source": [
        "import scrambler222\n",
        "\n",
        "# Generar un scramble aleatorio para un cubo 2x2x2 (WCA)\n",
        "scramble_wca = scrambler222.get_WCA_scramble(\"2x2x2\")\n",
        "\n",
        "# Generar un scramble óptimo para un cubo 2x2x2\n",
        "scramble_optimo = scrambler222.get_optimal_scramble(\"2x2x2\")\n",
        "\n",
        "print(\"Scramble aleatorio (WCA) para un cubo 2x2x2:\")\n",
        "print(scramble_wca)\n",
        "\n",
        "print(\"\\nScramble óptimo para un cubo 2x2x2:\")\n",
        "print(scramble_optimo)\n"
      ],
      "metadata": {
        "colab": {
          "base_uri": "https://localhost:8080/",
          "height": 383
        },
        "id": "ncrG7fygsskb",
        "outputId": "01662a62-6edc-4519-cc93-20c520a9cf02"
      },
      "execution_count": 52,
      "outputs": [
        {
          "output_type": "error",
          "ename": "ModuleNotFoundError",
          "evalue": "No module named 'scrambler222'",
          "traceback": [
            "\u001b[0;31m---------------------------------------------------------------------------\u001b[0m",
            "\u001b[0;31mModuleNotFoundError\u001b[0m                       Traceback (most recent call last)",
            "\u001b[0;32m<ipython-input-52-b0180da9272e>\u001b[0m in \u001b[0;36m<cell line: 1>\u001b[0;34m()\u001b[0m\n\u001b[0;32m----> 1\u001b[0;31m \u001b[0;32mimport\u001b[0m \u001b[0mscrambler222\u001b[0m\u001b[0;34m\u001b[0m\u001b[0;34m\u001b[0m\u001b[0m\n\u001b[0m\u001b[1;32m      2\u001b[0m \u001b[0;34m\u001b[0m\u001b[0m\n\u001b[1;32m      3\u001b[0m \u001b[0;31m# Generar un scramble aleatorio para un cubo 2x2x2 (WCA)\u001b[0m\u001b[0;34m\u001b[0m\u001b[0;34m\u001b[0m\u001b[0m\n\u001b[1;32m      4\u001b[0m \u001b[0mscramble_wca\u001b[0m \u001b[0;34m=\u001b[0m \u001b[0mscrambler222\u001b[0m\u001b[0;34m.\u001b[0m\u001b[0mget_WCA_scramble\u001b[0m\u001b[0;34m(\u001b[0m\u001b[0;34m\"2x2x2\"\u001b[0m\u001b[0;34m)\u001b[0m\u001b[0;34m\u001b[0m\u001b[0;34m\u001b[0m\u001b[0m\n\u001b[1;32m      5\u001b[0m \u001b[0;34m\u001b[0m\u001b[0m\n",
            "\u001b[0;31mModuleNotFoundError\u001b[0m: No module named 'scrambler222'",
            "",
            "\u001b[0;31m---------------------------------------------------------------------------\u001b[0;32m\nNOTE: If your import is failing due to a missing package, you can\nmanually install dependencies using either !pip or !apt.\n\nTo view examples of installing some common dependencies, click the\n\"Open Examples\" button below.\n\u001b[0;31m---------------------------------------------------------------------------\u001b[0m\n"
          ],
          "errorDetails": {
            "actions": [
              {
                "action": "open_url",
                "actionText": "Open Examples",
                "url": "/notebooks/snippets/importing_libraries.ipynb"
              }
            ]
          }
        }
      ]
    }
  ]
}