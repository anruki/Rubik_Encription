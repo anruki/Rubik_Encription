{
  "nbformat": 4,
  "nbformat_minor": 0,
  "metadata": {
    "colab": {
      "provenance": [],
      "authorship_tag": "ABX9TyO5cSRLtqArbAd7aJq0y5m/",
      "include_colab_link": true
    },
    "kernelspec": {
      "name": "python3",
      "display_name": "Python 3"
    },
    "language_info": {
      "name": "python"
    }
  },
  "cells": [
    {
      "cell_type": "markdown",
      "metadata": {
        "id": "view-in-github",
        "colab_type": "text"
      },
      "source": [
        "<a href=\"https://colab.research.google.com/github/anruki/Rubik_Encription/blob/main/encription.ipynb\" target=\"_parent\"><img src=\"https://colab.research.google.com/assets/colab-badge.svg\" alt=\"Open In Colab\"/></a>"
      ]
    },
    {
      "cell_type": "markdown",
      "source": [
        "# Modelo de cifrado empleando las permutaciones del cubo de Rubik"
      ],
      "metadata": {
        "id": "16Q0FUv7h-Y9"
      }
    },
    {
      "cell_type": "markdown",
      "source": [
        "### Transformación del mensaje a binario"
      ],
      "metadata": {
        "id": "e5Ris-9WlgOc"
      }
    },
    {
      "cell_type": "markdown",
      "source": [
        "El primer paso será crear una función que transforme el mensaje a binario."
      ],
      "metadata": {
        "id": "4JT7uBgPiFKx"
      }
    },
    {
      "cell_type": "code",
      "source": [
        "def transformacion_binaria(mensaje):\n",
        "  result = list(format(c, '08b') for c in bytearray(mensaje, \"utf-8\"))\n",
        "  return result"
      ],
      "metadata": {
        "id": "7Btszclgkaoj"
      },
      "execution_count": 6,
      "outputs": []
    },
    {
      "cell_type": "markdown",
      "source": [
        "Aquí, bytearray(x, \"utf-8\") crea un objeto bytearray a partir de la cadena x utilizando la codificación UTF-8. Luego, format(c, '08b') formatea cada byte en la representación binaria de 8 bits ('08b') y se genera una lista de estas representaciones binarias.\n",
        "\n",
        "Este código generará una lista de representaciones binarias de cada byte en la codificación UTF-8 de la cadena x."
      ],
      "metadata": {
        "id": "nwZQdOp4kbbO"
      }
    },
    {
      "cell_type": "markdown",
      "source": [
        "Probamos con un mensaje de ejemplo:"
      ],
      "metadata": {
        "id": "lMgXqOzwloeJ"
      }
    },
    {
      "cell_type": "code",
      "source": [
        "transformacion_binaria('ejemplo')"
      ],
      "metadata": {
        "id": "WaiNgbT0lR0T",
        "outputId": "909c0f4a-049e-4f0d-80e0-b111a3ac3746",
        "colab": {
          "base_uri": "https://localhost:8080/"
        }
      },
      "execution_count": 8,
      "outputs": [
        {
          "output_type": "execute_result",
          "data": {
            "text/plain": [
              "['01100101',\n",
              " '01101010',\n",
              " '01100101',\n",
              " '01101101',\n",
              " '01110000',\n",
              " '01101100',\n",
              " '01101111']"
            ]
          },
          "metadata": {},
          "execution_count": 8
        }
      ]
    },
    {
      "cell_type": "markdown",
      "source": [
        "## Creación de la función de encriptación simétrica"
      ],
      "metadata": {
        "id": "ZjNPF2I7lz2V"
      }
    },
    {
      "cell_type": "markdown",
      "source": [
        "El mensaje en binario se le aplica a una matriz que representa las permutaciones del cubo de Rubik. Concretamente es una matriz con 2x3 dimensiones, para representar las 2 caras permutables del cubo y los 3 ejes `[x,y,z]` sobre los que se puede rotar cada cara.\n",
        "\n",
        "Al tratarse de una estructura cúbica, trabajamos en modulo 4, ya que cada permutación, si se repite el mismo movimiento 4 veces, se vuelve a la posición inicial."
      ],
      "metadata": {
        "id": "C7gt31tLl40j"
      }
    },
    {
      "cell_type": "markdown",
      "source": [
        "**Generación de números aleatorios seguros**"
      ],
      "metadata": {
        "id": "VbbcVxcvnpCG"
      }
    },
    {
      "cell_type": "markdown",
      "source": [
        "Utilizamos la biblioteca `secrets` de python para generar números aleatorios que no estén en memoria."
      ],
      "metadata": {
        "id": "hiA7z4FQnsK7"
      }
    },
    {
      "cell_type": "code",
      "source": [
        "import secrets\n",
        "\n",
        "# Generar un número aleatorio seguro en el rango especificado\n",
        "num_aleatorio = secrets.randbelow(100)  # Genera un número aleatorio entre 0 y 99 (inclusive)\n",
        "print(\"Número aleatorio:\", num_aleatorio)\n",
        "\n",
        "# También puedes generar números aleatorios con un número específico de bits\n",
        "num_aleatorio_bits = secrets.randbits(16)  # Genera un número aleatorio de 16 bits\n",
        "print(\"Número aleatorio (16 bits):\", num_aleatorio_bits)"
      ],
      "metadata": {
        "id": "ryHnbmqxm44Q",
        "outputId": "ea7d9dcb-68ba-4e12-88f5-14331d3deec1",
        "colab": {
          "base_uri": "https://localhost:8080/"
        }
      },
      "execution_count": 9,
      "outputs": [
        {
          "output_type": "stream",
          "name": "stdout",
          "text": [
            "Número aleatorio: 24\n",
            "Número aleatorio (16 bits): 44146\n"
          ]
        }
      ]
    },
    {
      "cell_type": "markdown",
      "source": [
        "**Generación de la matriz en el cuerpo módulo 4**"
      ],
      "metadata": {
        "id": "HrBlSEVZn3eO"
      }
    },
    {
      "cell_type": "code",
      "source": [
        "for i in range(2):\n",
        "  for j in range(3):\n",
        "    num_aleatorio = secrets.randbits(16)  # Genera un número aleatorio de 16 bits\n",
        "    matrix[i][j] = num_aleatorio"
      ],
      "metadata": {
        "id": "-8-CZc5Hn-CU"
      },
      "execution_count": null,
      "outputs": []
    }
  ]
}