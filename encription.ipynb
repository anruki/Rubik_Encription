{
  "nbformat": 4,
  "nbformat_minor": 0,
  "metadata": {
    "colab": {
      "provenance": [],
      "authorship_tag": "ABX9TyMjjXdtxa2DfXvlnrxFaxRy",
      "include_colab_link": true
    },
    "kernelspec": {
      "name": "python3",
      "display_name": "Python 3"
    },
    "language_info": {
      "name": "python"
    }
  },
  "cells": [
    {
      "cell_type": "markdown",
      "metadata": {
        "id": "view-in-github",
        "colab_type": "text"
      },
      "source": [
        "<a href=\"https://colab.research.google.com/github/anruki/Rubik_Encription/blob/main/encription.ipynb\" target=\"_parent\"><img src=\"https://colab.research.google.com/assets/colab-badge.svg\" alt=\"Open In Colab\"/></a>"
      ]
    },
    {
      "cell_type": "markdown",
      "source": [
        "# Modelo de cifrado empleando las permutaciones del cubo de Rubik"
      ],
      "metadata": {
        "id": "16Q0FUv7h-Y9"
      }
    },
    {
      "cell_type": "markdown",
      "source": [
        "### Transformación del mensaje a binario"
      ],
      "metadata": {
        "id": "e5Ris-9WlgOc"
      }
    },
    {
      "cell_type": "markdown",
      "source": [
        "El primer paso será crear una función que transforme el mensaje a binario."
      ],
      "metadata": {
        "id": "4JT7uBgPiFKx"
      }
    },
    {
      "cell_type": "code",
      "source": [
        "def transformacion_binaria(mensaje):\n",
        "    result = list(format(c, '06b') for c in bytearray(mensaje, \"utf-8\"))\n",
        "    return result"
      ],
      "metadata": {
        "id": "7Btszclgkaoj"
      },
      "execution_count": 62,
      "outputs": []
    },
    {
      "cell_type": "markdown",
      "source": [
        "Y su función inversa para posteriormente poder decodificar el mensaje:"
      ],
      "metadata": {
        "id": "rJd6GS5X0D2z"
      }
    },
    {
      "cell_type": "code",
      "source": [
        "def transformacion_caracteres(lista_binaria):\n",
        "    mensaje = ''\n",
        "    for binario in lista_binaria:\n",
        "        caracter = chr(int(binario, 2))\n",
        "        mensaje += caracter\n",
        "    return mensaje"
      ],
      "metadata": {
        "id": "Wcc_DjrIzWnR",
        "outputId": "13d256c0-580a-4891-d8d1-650ae269bcf7",
        "colab": {
          "base_uri": "https://localhost:8080/"
        }
      },
      "execution_count": 66,
      "outputs": [
        {
          "output_type": "stream",
          "name": "stdout",
          "text": [
            "ejemplo\n"
          ]
        }
      ]
    },
    {
      "cell_type": "markdown",
      "source": [
        "Aquí, bytearray(x, \"utf-8\") crea un objeto bytearray a partir de la cadena x utilizando la codificación UTF-8. Luego, format(c, '08b') formatea cada byte en la representación binaria de 8 bits ('08b') y se genera una lista de estas representaciones binarias.\n",
        "\n",
        "Este código generará una lista de representaciones binarias de cada byte en la codificación UTF-8 de la cadena x."
      ],
      "metadata": {
        "id": "nwZQdOp4kbbO"
      }
    },
    {
      "cell_type": "markdown",
      "source": [
        "Probamos con un mensaje de ejemplo:"
      ],
      "metadata": {
        "id": "lMgXqOzwloeJ"
      }
    },
    {
      "cell_type": "code",
      "source": [
        "x = transformacion_binaria('ejemplo')\n",
        "print(x)"
      ],
      "metadata": {
        "id": "WaiNgbT0lR0T",
        "outputId": "550ab302-5d06-4217-f919-cb76cdf9a5ff",
        "colab": {
          "base_uri": "https://localhost:8080/"
        }
      },
      "execution_count": 67,
      "outputs": [
        {
          "output_type": "stream",
          "name": "stdout",
          "text": [
            "['1100101', '1101010', '1100101', '1101101', '1110000', '1101100', '1101111']\n"
          ]
        }
      ]
    },
    {
      "cell_type": "code",
      "source": [
        "y = transformacion_caracteres(x)\n",
        "print(y)"
      ],
      "metadata": {
        "id": "AGnMreIYzZfL",
        "outputId": "7c1ee495-9a0b-4867-dbda-df3e32064526",
        "colab": {
          "base_uri": "https://localhost:8080/"
        }
      },
      "execution_count": 68,
      "outputs": [
        {
          "output_type": "stream",
          "name": "stdout",
          "text": [
            "ejemplo\n"
          ]
        }
      ]
    },
    {
      "cell_type": "code",
      "source": [
        "# [bin(ord(c))[2:] for c in 'ejemplo']"
      ],
      "metadata": {
        "id": "ywTt1cl9m-WN",
        "outputId": "5570a01b-e856-4647-8a14-ebc5c1120abb",
        "colab": {
          "base_uri": "https://localhost:8080/"
        }
      },
      "execution_count": 9,
      "outputs": [
        {
          "output_type": "execute_result",
          "data": {
            "text/plain": [
              "['1100101', '1101010', '1100101', '1101101', '1110000', '1101100', '1101111']"
            ]
          },
          "metadata": {},
          "execution_count": 9
        }
      ]
    },
    {
      "cell_type": "markdown",
      "source": [
        "## Creación de la función de encriptación simétrica"
      ],
      "metadata": {
        "id": "ZjNPF2I7lz2V"
      }
    },
    {
      "cell_type": "markdown",
      "source": [
        "El mensaje en binario se le aplica a una matriz que representa las permutaciones del cubo de Rubik. Concretamente es una matriz con 2x3 dimensiones, para representar las 2 caras permutables del cubo y los 3 ejes `[x,y,z]` sobre los que se puede rotar cada cara.\n",
        "\n",
        "Al tratarse de una estructura cúbica, trabajamos en modulo 4, ya que cada permutación, si se repite el mismo movimiento 4 veces, se vuelve a la posición inicial."
      ],
      "metadata": {
        "id": "C7gt31tLl40j"
      }
    },
    {
      "cell_type": "markdown",
      "source": [
        "**Generación de números aleatorios seguros**"
      ],
      "metadata": {
        "id": "VbbcVxcvnpCG"
      }
    },
    {
      "cell_type": "markdown",
      "source": [
        "Utilizamos la biblioteca `secrets` de python para generar números aleatorios que no estén en memoria."
      ],
      "metadata": {
        "id": "hiA7z4FQnsK7"
      }
    },
    {
      "cell_type": "code",
      "source": [
        "import secrets\n",
        "\n",
        "# Generar un número aleatorio seguro en el rango especificado\n",
        "num_aleatorio = secrets.randbelow(100)  # Genera un número aleatorio entre 0 y 99 (inclusive)\n",
        "print(\"Número aleatorio:\", num_aleatorio)\n",
        "\n",
        "# También puedes generar números aleatorios con un número específico de bits\n",
        "num_aleatorio_bits = secrets.randbits(16)  # Genera un número aleatorio de 16 bits\n",
        "print(\"Número aleatorio (16 bits):\", num_aleatorio_bits)"
      ],
      "metadata": {
        "id": "ryHnbmqxm44Q",
        "outputId": "ea7d9dcb-68ba-4e12-88f5-14331d3deec1",
        "colab": {
          "base_uri": "https://localhost:8080/"
        }
      },
      "execution_count": null,
      "outputs": [
        {
          "output_type": "stream",
          "name": "stdout",
          "text": [
            "Número aleatorio: 24\n",
            "Número aleatorio (16 bits): 44146\n"
          ]
        }
      ]
    },
    {
      "cell_type": "markdown",
      "source": [
        "**Generación de la matriz en el cuerpo módulo 4**"
      ],
      "metadata": {
        "id": "HrBlSEVZn3eO"
      }
    },
    {
      "cell_type": "code",
      "source": [
        "import secrets\n",
        "# Definir las dimensiones de la matriz\n",
        "filas = 2\n",
        "columnas = 3\n",
        "# Crear la matriz con números aleatorios\n",
        "matriz_permutaciones = [[secrets.randbelow(4) for _ in range(columnas)] for _ in range(filas)]"
      ],
      "metadata": {
        "id": "-8-CZc5Hn-CU"
      },
      "execution_count": 56,
      "outputs": []
    },
    {
      "cell_type": "code",
      "source": [
        "matriz_permutaciones"
      ],
      "metadata": {
        "id": "yVRo4JjelgZC",
        "outputId": "d56eefa5-f634-413f-e654-2b4257d3f47e",
        "colab": {
          "base_uri": "https://localhost:8080/"
        }
      },
      "execution_count": 57,
      "outputs": [
        {
          "output_type": "execute_result",
          "data": {
            "text/plain": [
              "[[1, 3, 3], [2, 2, 2]]"
            ]
          },
          "metadata": {},
          "execution_count": 57
        }
      ]
    },
    {
      "cell_type": "markdown",
      "source": [
        "**División del mensaje para la operación matricial**"
      ],
      "metadata": {
        "id": "hwGkOr8alqFT"
      }
    },
    {
      "cell_type": "code",
      "source": [
        "def multiplicar_matriz_por_vector(matriz, vector):\n",
        "    resultado = []\n",
        "\n",
        "    for segmento_vector in vector:\n",
        "        resultado_segmento = [sum(matriz[j][k] * int(segmento_vector[k]) for k in range(num_columnas)) for j in range(len(matriz))]\n",
        "        resultado.extend(resultado_segmento)\n",
        "    return resultado\n",
        "\n",
        "matriz_permutaciones = [[1, 3, 3], [2, 2, 2]]\n",
        "x = ['1100101', '1101010', '1100101', '1101101', '1110000', '1101100', '1101111']\n",
        "\n",
        "resultado_multiplicacion = multiplicar_matriz_por_vector(matriz_permutaciones, x)\n",
        "\n",
        "print(resultado_multiplicacion)\n",
        "\n"
      ],
      "metadata": {
        "id": "F98fxQ3Uxh3-",
        "outputId": "b0817bac-32b7-424d-c146-7271deb17e6b",
        "colab": {
          "base_uri": "https://localhost:8080/"
        }
      },
      "execution_count": 70,
      "outputs": [
        {
          "output_type": "stream",
          "name": "stdout",
          "text": [
            "[4, 4, 4, 4, 4, 4, 4, 4, 7, 6, 4, 4, 4, 4]\n"
          ]
        }
      ]
    },
    {
      "cell_type": "markdown",
      "source": [
        "## Otros enfoques"
      ],
      "metadata": {
        "id": "10MdHOQVvUJg"
      }
    },
    {
      "cell_type": "code",
      "source": [
        "import random\n",
        "\n",
        "# Definimos los colores posibles en un cubo de Rubik 2x2x2\n",
        "colores = ['R', 'B', 'G', 'Y', 'W', 'O']\n",
        "\n",
        "# Generamos una posición aleatoria del cubo de Rubik 2x2x2\n",
        "posicion_aleatoria = [[[random.choice(colores) for _ in range(2)] for _ in range(2)] for _ in range(2)]\n",
        "\n",
        "# Mostramos la posición aleatoria generada\n",
        "print(\"Posición aleatoria en el cubo de Rubik 2x2x2:\")\n",
        "for capa in posicion_aleatoria:\n",
        "    for fila in capa:\n",
        "        print(' '.join(fila))\n",
        "    print()"
      ],
      "metadata": {
        "id": "WaCPwqB9lyQ1",
        "outputId": "df12b965-6cb9-415d-f639-31e1529712e7",
        "colab": {
          "base_uri": "https://localhost:8080/"
        }
      },
      "execution_count": 10,
      "outputs": [
        {
          "output_type": "stream",
          "name": "stdout",
          "text": [
            "Posición aleatoria en el cubo de Rubik 2x2x2:\n",
            "Y B\n",
            "O Y\n",
            "\n",
            "R W\n",
            "R O\n",
            "\n"
          ]
        }
      ]
    },
    {
      "cell_type": "code",
      "source": [
        "import numpy as np\n",
        "\n",
        "# Definimos una función para generar una posición aleatoria del cubo de Rubik 2x2x2\n",
        "def generar_posicion_aleatoria():\n",
        "    # Definimos los colores posibles como números\n",
        "    colores = [0, 1, 2, 3, 4, 5]\n",
        "\n",
        "    # Generamos una matriz 2x2 para cada cara del cubo\n",
        "    cara_frontal = np.random.choice(colores, size=(2, 2))\n",
        "    cara_trasera = np.random.choice(colores, size=(2, 2))\n",
        "    cara_superior = np.random.choice(colores, size=(2, 2))\n",
        "    cara_inferior = np.random.choice(colores, size=(2, 2))\n",
        "    cara_izquierda = np.random.choice(colores, size=(2, 2))\n",
        "    cara_derecha = np.random.choice(colores, size=(2, 2))\n",
        "\n",
        "    # Devolvemos todas las caras en un arreglo multidimensional\n",
        "    return [cara_frontal, cara_trasera, cara_superior, cara_inferior, cara_izquierda, cara_derecha]\n",
        "\n",
        "# Generamos una posición aleatoria\n",
        "posicion_aleatoria = generar_posicion_aleatoria()\n",
        "\n",
        "# Mostramos la posición aleatoria generada\n",
        "print(\"Posición aleatoria en el cubo de Rubik 2x2x2:\")\n",
        "for cara in posicion_aleatoria:\n",
        "    print(cara)\n"
      ],
      "metadata": {
        "id": "yMUzOK0ppMa-",
        "outputId": "1efb1c06-1f9d-4011-eb19-13c7a744a032",
        "colab": {
          "base_uri": "https://localhost:8080/"
        }
      },
      "execution_count": 12,
      "outputs": [
        {
          "output_type": "stream",
          "name": "stdout",
          "text": [
            "Posición aleatoria en el cubo de Rubik 2x2x2:\n",
            "[[2 2]\n",
            " [5 5]]\n",
            "[[1 2]\n",
            " [3 2]]\n",
            "[[0 3]\n",
            " [4 2]]\n",
            "[[5 1]\n",
            " [0 4]]\n",
            "[[3 2]\n",
            " [2 0]]\n",
            "[[0 5]\n",
            " [3 0]]\n"
          ]
        }
      ]
    },
    {
      "cell_type": "code",
      "source": [
        "import numpy as np\n",
        "\n",
        "# Definimos las operaciones de giro para cada cara\n",
        "def giro_cara_horario(cara):\n",
        "    return np.rot90(cara, k=-1)\n",
        "\n",
        "def giro_cara_antihorario(cara):\n",
        "    return np.rot90(cara, k=1)\n",
        "\n",
        "# Generamos una posición aleatoria del cubo de Rubik 2x2x2\n",
        "def generar_posicion_aleatoria():\n",
        "    colores = [0, 1, 2, 3, 4, 5]\n",
        "    cara_frontal = np.random.choice(colores, size=(2, 2))\n",
        "    cara_trasera = np.random.choice(colores, size=(2, 2))\n",
        "    cara_superior = np.random.choice(colores, size=(2, 2))\n",
        "    cara_inferior = np.random.choice(colores, size=(2, 2))\n",
        "    cara_izquierda = np.random.choice(colores, size=(2, 2))\n",
        "    cara_derecha = np.random.choice(colores, size=(2, 2))\n",
        "    return [cara_frontal, cara_trasera, cara_superior, cara_inferior, cara_izquierda, cara_derecha]\n",
        "\n",
        "# Mostramos el estado del cubo de Rubik 2x2x2\n",
        "def mostrar_estado(posicion):\n",
        "    print(\"Estado actual del cubo de Rubik 2x2x2:\")\n",
        "    for cara in posicion:\n",
        "        print(cara)\n",
        "\n",
        "# Generamos una posición aleatoria\n",
        "posicion = generar_posicion_aleatoria()\n",
        "mostrar_estado(posicion)\n",
        "\n",
        "# Realizamos un giro en la cara frontal en sentido horario\n",
        "posicion[0] = giro_cara_horario(posicion[0])\n",
        "\n",
        "# Mostramos el estado del cubo después del giro\n",
        "print(\"\\nDespués del giro en la cara frontal en sentido horario:\")\n",
        "mostrar_estado(posicion)\n"
      ],
      "metadata": {
        "id": "AZXI_2uZp6Pn",
        "outputId": "f34a793d-39c7-40bf-f47c-439e7dd703ca",
        "colab": {
          "base_uri": "https://localhost:8080/"
        }
      },
      "execution_count": 13,
      "outputs": [
        {
          "output_type": "stream",
          "name": "stdout",
          "text": [
            "Estado actual del cubo de Rubik 2x2x2:\n",
            "[[1 1]\n",
            " [2 4]]\n",
            "[[3 1]\n",
            " [1 2]]\n",
            "[[4 2]\n",
            " [1 1]]\n",
            "[[3 1]\n",
            " [3 2]]\n",
            "[[5 0]\n",
            " [4 3]]\n",
            "[[0 3]\n",
            " [1 1]]\n",
            "\n",
            "Después del giro en la cara frontal en sentido horario:\n",
            "Estado actual del cubo de Rubik 2x2x2:\n",
            "[[2 1]\n",
            " [4 1]]\n",
            "[[3 1]\n",
            " [1 2]]\n",
            "[[4 2]\n",
            " [1 1]]\n",
            "[[3 1]\n",
            " [3 2]]\n",
            "[[5 0]\n",
            " [4 3]]\n",
            "[[0 3]\n",
            " [1 1]]\n"
          ]
        }
      ]
    },
    {
      "cell_type": "code",
      "source": [
        "!pip3 install opencv-python"
      ],
      "metadata": {
        "id": "me9vOI3wwg-r",
        "outputId": "d4b9ccfc-a3fc-4f14-8c4d-704169b08fca",
        "colab": {
          "base_uri": "https://localhost:8080/"
        }
      },
      "execution_count": 50,
      "outputs": [
        {
          "output_type": "stream",
          "name": "stdout",
          "text": [
            "Requirement already satisfied: opencv-python in /usr/local/lib/python3.10/dist-packages (4.8.0.76)\n",
            "Requirement already satisfied: numpy>=1.21.2 in /usr/local/lib/python3.10/dist-packages (from opencv-python) (1.25.2)\n"
          ]
        }
      ]
    },
    {
      "cell_type": "code",
      "source": [
        "!pip uninstall rubik -y"
      ],
      "metadata": {
        "id": "sJM4bQ30s7zZ",
        "outputId": "f0d05e8e-0341-4f6b-88d9-58e5301f1bb2",
        "colab": {
          "base_uri": "https://localhost:8080/"
        }
      },
      "execution_count": 32,
      "outputs": [
        {
          "output_type": "stream",
          "name": "stdout",
          "text": [
            "Found existing installation: Rubik 0.0.1\n",
            "Uninstalling Rubik-0.0.1:\n",
            "  Successfully uninstalled Rubik-0.0.1\n"
          ]
        }
      ]
    },
    {
      "cell_type": "code",
      "source": [
        "!pip install rubik-cube"
      ],
      "metadata": {
        "id": "m6ENOP5ErDQZ",
        "outputId": "e080515e-1c17-4caa-fa74-01a4ebb6a801",
        "colab": {
          "base_uri": "https://localhost:8080/"
        }
      },
      "execution_count": 33,
      "outputs": [
        {
          "output_type": "stream",
          "name": "stdout",
          "text": [
            "Requirement already satisfied: rubik-cube in /usr/local/lib/python3.10/dist-packages (0.0.2)\n"
          ]
        }
      ]
    },
    {
      "cell_type": "code",
      "source": [
        "from rubik.cube import Cube\n",
        "cubo = Cube(\"OOOOOOOOOYYYWWWGGGBBBYYYWWWGGGBBBYYYWWWGGGBBBRRRRRRRRR\")\n",
        "print(c)"
      ],
      "metadata": {
        "id": "91D_VwAfrFIp",
        "outputId": "10f32dc5-f9da-450b-d6ae-ec769a6d0b9f",
        "colab": {
          "base_uri": "https://localhost:8080/"
        }
      },
      "execution_count": 53,
      "outputs": [
        {
          "output_type": "stream",
          "name": "stdout",
          "text": [
            "    OOO\n",
            "    OOO\n",
            "    OOO\n",
            "YYY WWW GGG BBB\n",
            "YYY WWW GGG BBB\n",
            "YYY WWW GGG BBB\n",
            "    RRR\n",
            "    RRR\n",
            "    RRR\n"
          ]
        }
      ]
    },
    {
      "cell_type": "code",
      "source": [
        "import scrambler222\n",
        "\n",
        "# Generar un scramble aleatorio para un cubo 2x2x2 (WCA)\n",
        "scramble_wca = scrambler222.get_WCA_scramble(\"2x2x2\")\n",
        "\n",
        "# Generar un scramble óptimo para un cubo 2x2x2\n",
        "scramble_optimo = scrambler222.get_optimal_scramble(\"2x2x2\")\n",
        "\n",
        "print(\"Scramble aleatorio (WCA) para un cubo 2x2x2:\")\n",
        "print(scramble_wca)\n",
        "\n",
        "print(\"\\nScramble óptimo para un cubo 2x2x2:\")\n",
        "print(scramble_optimo)\n"
      ],
      "metadata": {
        "id": "ncrG7fygsskb",
        "outputId": "01662a62-6edc-4519-cc93-20c520a9cf02",
        "colab": {
          "base_uri": "https://localhost:8080/",
          "height": 383
        }
      },
      "execution_count": 52,
      "outputs": [
        {
          "output_type": "error",
          "ename": "ModuleNotFoundError",
          "evalue": "No module named 'scrambler222'",
          "traceback": [
            "\u001b[0;31m---------------------------------------------------------------------------\u001b[0m",
            "\u001b[0;31mModuleNotFoundError\u001b[0m                       Traceback (most recent call last)",
            "\u001b[0;32m<ipython-input-52-b0180da9272e>\u001b[0m in \u001b[0;36m<cell line: 1>\u001b[0;34m()\u001b[0m\n\u001b[0;32m----> 1\u001b[0;31m \u001b[0;32mimport\u001b[0m \u001b[0mscrambler222\u001b[0m\u001b[0;34m\u001b[0m\u001b[0;34m\u001b[0m\u001b[0m\n\u001b[0m\u001b[1;32m      2\u001b[0m \u001b[0;34m\u001b[0m\u001b[0m\n\u001b[1;32m      3\u001b[0m \u001b[0;31m# Generar un scramble aleatorio para un cubo 2x2x2 (WCA)\u001b[0m\u001b[0;34m\u001b[0m\u001b[0;34m\u001b[0m\u001b[0m\n\u001b[1;32m      4\u001b[0m \u001b[0mscramble_wca\u001b[0m \u001b[0;34m=\u001b[0m \u001b[0mscrambler222\u001b[0m\u001b[0;34m.\u001b[0m\u001b[0mget_WCA_scramble\u001b[0m\u001b[0;34m(\u001b[0m\u001b[0;34m\"2x2x2\"\u001b[0m\u001b[0;34m)\u001b[0m\u001b[0;34m\u001b[0m\u001b[0;34m\u001b[0m\u001b[0m\n\u001b[1;32m      5\u001b[0m \u001b[0;34m\u001b[0m\u001b[0m\n",
            "\u001b[0;31mModuleNotFoundError\u001b[0m: No module named 'scrambler222'",
            "",
            "\u001b[0;31m---------------------------------------------------------------------------\u001b[0;32m\nNOTE: If your import is failing due to a missing package, you can\nmanually install dependencies using either !pip or !apt.\n\nTo view examples of installing some common dependencies, click the\n\"Open Examples\" button below.\n\u001b[0;31m---------------------------------------------------------------------------\u001b[0m\n"
          ],
          "errorDetails": {
            "actions": [
              {
                "action": "open_url",
                "actionText": "Open Examples",
                "url": "/notebooks/snippets/importing_libraries.ipynb"
              }
            ]
          }
        }
      ]
    }
  ]
}