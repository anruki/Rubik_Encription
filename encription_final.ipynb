{
  "nbformat": 4,
  "nbformat_minor": 0,
  "metadata": {
    "colab": {
      "provenance": [],
      "include_colab_link": true
    },
    "kernelspec": {
      "name": "python3",
      "display_name": "Python 3"
    },
    "language_info": {
      "name": "python"
    }
  },
  "cells": [
    {
      "cell_type": "markdown",
      "metadata": {
        "id": "view-in-github",
        "colab_type": "text"
      },
      "source": [
        "<a href=\"https://colab.research.google.com/github/anruki/Rubik_Encription/blob/main/encription_final.ipynb\" target=\"_parent\"><img src=\"https://colab.research.google.com/assets/colab-badge.svg\" alt=\"Open In Colab\"/></a>"
      ]
    },
    {
      "cell_type": "markdown",
      "source": [
        "# Modelo de cifrado empleando las permutaciones del cubo de Rubik"
      ],
      "metadata": {
        "id": "16Q0FUv7h-Y9"
      }
    },
    {
      "cell_type": "markdown",
      "source": [
        "## Importación de las librerías de python necesarias"
      ],
      "metadata": {
        "id": "eQlcA_rF28k3"
      }
    },
    {
      "cell_type": "code",
      "source": [
        "import numpy as np\n",
        "import secrets"
      ],
      "metadata": {
        "id": "Y-c410kO3APV"
      },
      "execution_count": 8,
      "outputs": []
    },
    {
      "cell_type": "markdown",
      "source": [
        "La biblioteca `numpy` de python proporciona estructuras como arrays, y funciones para operar con ellos."
      ],
      "metadata": {
        "id": "CZxi2LyN8D0I"
      }
    },
    {
      "cell_type": "markdown",
      "source": [
        "- Ejemplo de uso:"
      ],
      "metadata": {
        "id": "kdQUaMt58iKM"
      }
    },
    {
      "cell_type": "code",
      "source": [
        "# Creación de dos matrices utilizando NumPy\n",
        "matriz_a = np.array([[1, 2, 3], [4, 5, 6]])\n",
        "matriz_b = np.array([[7, 8, 9], [10, 11, 12]])\n",
        "\n",
        "# Multiplicación matricial (producto punto)\n",
        "producto_punto = np.dot(matriz_a, matriz_b.T)"
      ],
      "metadata": {
        "id": "IFHkuNvG8ckO"
      },
      "execution_count": null,
      "outputs": []
    },
    {
      "cell_type": "markdown",
      "source": [
        "La biblioteca `secrets` de python permite generar números aleatorios de forma segura (TODO: explicar aquí por qué)"
      ],
      "metadata": {
        "id": "hiA7z4FQnsK7"
      }
    },
    {
      "cell_type": "markdown",
      "source": [
        "- Ejemplo de uso:"
      ],
      "metadata": {
        "id": "Dk7AdiXj8kAL"
      }
    },
    {
      "cell_type": "code",
      "source": [
        "# Generación de un número aleatorio seguro en el rango especificado\n",
        "num_aleatorio = secrets.randbelow(100)  # Genera un número aleatorio entre 0 y 99 (inclusive)\n",
        "print(\"Número aleatorio:\", num_aleatorio)\n",
        "\n",
        "# Generación de números aleatorios con un número específico de bits\n",
        "num_aleatorio_bits = secrets.randbits(16)  # Genera un número aleatorio de 16 bits\n",
        "print(\"Número aleatorio (16 bits):\", num_aleatorio_bits)"
      ],
      "metadata": {
        "id": "ryHnbmqxm44Q",
        "outputId": "cc148ba2-e167-407d-ce88-8c34fc3924c9",
        "colab": {
          "base_uri": "https://localhost:8080/"
        }
      },
      "execution_count": null,
      "outputs": [
        {
          "output_type": "stream",
          "name": "stdout",
          "text": [
            "Número aleatorio: 45\n",
            "Número aleatorio (16 bits): 36028\n"
          ]
        }
      ]
    },
    {
      "cell_type": "markdown",
      "source": [
        "## Transformación del mensaje a numérico"
      ],
      "metadata": {
        "id": "TPFtPAVzPsvM"
      }
    },
    {
      "cell_type": "markdown",
      "source": [
        "En nuestro caso, para ver fácilmente la operación del proceso de encriptación, vamos a pasar el mensaje en caracteres a un mensaje compuesto por números, cada letra del abecedario es representada por un valor numérico. Por ejemplo:\n",
        "\n",
        "A: 0\n",
        "B: 1\n",
        "C:2\n",
        "\n",
        "Además vamos a añadir un factor extra de aleatoridad para reforzar la seguridad del modelo de encriptación. Será una implementación del **cifrado César**  al traducir el mensaje (y después se hará la operación de encriptación mediante el producto de matrices)."
      ],
      "metadata": {
        "id": "s5dF8LFc6Oab"
      }
    },
    {
      "cell_type": "markdown",
      "source": [
        "**El cifrado César** consiste en cambiar cada letra de un texto por otra letra que se encuentra un número fijo de posiciones más adelante en el alfabeto. Por ejemplo, si el desplazamiento es 3, entonces A se convierte en D, B en E, C en F, y así sucesivamente.\n",
        "\n",
        "Es un cifrado de sustitución monoalfabético, lo que significa que cada letra del texto original es reemplazada por otra letra del mismo alfabeto, y siempre se usa el mismo conjunto de reemplazos para todas las letras. Sin embargo, debido a su simplicidad, es muy fácil de descifrar utilizando técnicas de análisis de frecuencia o fuerza bruta. Es por ello, que será solo un complemento del cifrado basado en el cubo de Rubik."
      ],
      "metadata": {
        "id": "eUa4yUSxvH2E"
      }
    },
    {
      "cell_type": "code",
      "source": [
        "def caracteres_a_numeros(texto,cesar):\n",
        "    def caracter_a_numero(caracter,cesar):\n",
        "        if not caracter.isalpha():\n",
        "            return None  # Retornar None si no es un carácter alfabético\n",
        "        return ord(caracter.lower()) - ord('a') + cesar\n",
        "\n",
        "    # Convertir cada carácter del texto a su equivalente numérico y guardarlos en el array\n",
        "    numeros = []\n",
        "    for caracter in texto:\n",
        "        numero = caracter_a_numero(caracter,cesar)\n",
        "        if numero is not None:\n",
        "            numeros.append(numero)\n",
        "\n",
        "    return np.array(numeros)  # Convertir la lista a un array NumPy"
      ],
      "metadata": {
        "id": "E2ug1CxnPvjl"
      },
      "execution_count": null,
      "outputs": []
    },
    {
      "cell_type": "markdown",
      "source": [
        "Probamos un mensaje de ejemplo y llamamos a la función anterior.\n",
        "Si queremos que no haya ninguna alteración, especificamos que la variable `cesar` sea 0."
      ],
      "metadata": {
        "id": "gNvcHkUz7qsV"
      }
    },
    {
      "cell_type": "code",
      "source": [
        "# Cadena de texto de ejemplo\n",
        "mensaje = 'abcde'\n",
        "\n",
        "# Llamar a la función con el texto dado\n",
        "mensaje_num = caracteres_a_numeros(mensaje,0)\n",
        "\n",
        "print(\"Números obtenidos:\", mensaje_num)"
      ],
      "metadata": {
        "colab": {
          "base_uri": "https://localhost:8080/"
        },
        "id": "ibYJtysM7sPK",
        "outputId": "34b8a691-d4ba-418c-fe4f-bd5fc78a227c"
      },
      "execution_count": null,
      "outputs": [
        {
          "output_type": "stream",
          "name": "stdout",
          "text": [
            "Números obtenidos: [0 1 2 3 4]\n"
          ]
        }
      ]
    },
    {
      "cell_type": "markdown",
      "source": [
        "Cuando la variable `cesar` toma el valor 2, se produce una permutación de los valores numéricos del mensaje:"
      ],
      "metadata": {
        "id": "CjLWIIlou5d5"
      }
    },
    {
      "cell_type": "code",
      "source": [
        "# Llamar a la función con el texto dado\n",
        "mensaje_num = caracteres_a_numeros(mensaje,2)\n",
        "\n",
        "print(\"Números obtenidos:\", mensaje_num)"
      ],
      "metadata": {
        "colab": {
          "base_uri": "https://localhost:8080/"
        },
        "id": "RMwon3tTv7fG",
        "outputId": "708ff782-ad74-4b96-8384-b00972ffaf10"
      },
      "execution_count": null,
      "outputs": [
        {
          "output_type": "stream",
          "name": "stdout",
          "text": [
            "Números obtenidos: [2 3 4 5 6]\n"
          ]
        }
      ]
    },
    {
      "cell_type": "markdown",
      "source": [
        "El usuario podrá especificar esta variable, pero siempre será un número en **módulo 26** ya que es el número de desplazamientos máximos que se pueden hacer en el alfabeto (si se hacen 26 desplazamientos, se vuelve a la posición inicial).\n",
        "\n",
        "$ 26 = 0 (mod 26) $\n",
        "\n",
        "$ 28 = 2 (mod 26) $"
      ],
      "metadata": {
        "id": "B94k7AKKv-dh"
      }
    },
    {
      "cell_type": "markdown",
      "source": [
        "Para toda transformación en un proceso de encriptación simétrica, debe haber una transformación inversa que permita al receptor desencriptar el mensaje."
      ],
      "metadata": {
        "id": "9PQDBP6sw5M7"
      }
    },
    {
      "cell_type": "code",
      "source": [
        "def numeros_a_caracteres(numeros, cesar):\n",
        "    def numero_a_caracter(numero):\n",
        "        if numero == -1:\n",
        "            return ''  # Retornar una cadena vacía si el número es -1\n",
        "        elif 0 <= numero < 26:\n",
        "            return chr(numero + ord('a') - cesar)\n",
        "        else:\n",
        "            return None  # Retornar None si el número está fuera del rango válido\n",
        "\n",
        "    # Convertir cada número en el array a su equivalente alfabético y guardarlos en una lista\n",
        "    caracteres = []\n",
        "    for numero in numeros:\n",
        "        caracter = numero_a_caracter(numero)\n",
        "        if caracter is not None:\n",
        "            caracteres.append(caracter)\n",
        "\n",
        "    # Unir los caracteres en una cadena de texto\n",
        "    return ''.join(caracteres)"
      ],
      "metadata": {
        "id": "vJ3bABSC9zhM"
      },
      "execution_count": null,
      "outputs": []
    },
    {
      "cell_type": "markdown",
      "source": [
        "Con el ejemplo de antes:"
      ],
      "metadata": {
        "id": "4fAvMEi9xFlH"
      }
    },
    {
      "cell_type": "code",
      "source": [
        "# Llamar a la función con la serie de números dada\n",
        "mensaje = numeros_a_caracteres(mensaje_num,2)\n",
        "\n",
        "print(\"El mensaje es:\", mensaje)"
      ],
      "metadata": {
        "colab": {
          "base_uri": "https://localhost:8080/"
        },
        "id": "xN9pjoIBxG8_",
        "outputId": "a1539386-3bd7-490a-f65b-6c0ff96de31a"
      },
      "execution_count": null,
      "outputs": [
        {
          "output_type": "stream",
          "name": "stdout",
          "text": [
            "El mensaje es: abcde\n"
          ]
        }
      ]
    },
    {
      "cell_type": "markdown",
      "source": [
        "## Creación de la función de encriptación simétrica"
      ],
      "metadata": {
        "id": "ZjNPF2I7lz2V"
      }
    },
    {
      "cell_type": "markdown",
      "source": [
        "El mensaje en binario se le aplica a una matriz que representa las permutaciones del cubo de Rubik. Concretamente es una matriz con 2x3 dimensiones, para representar las 2 caras permutables del cubo y los 3 ejes `[x,y,z]` sobre los que se puede rotar cada cara. Para que la matriz sea cuadrada (necesario para la encriptación simétrica) se le añade una fila de unos.\n",
        "\n",
        "Al tratarse de una estructura cúbica, trabajamos en modulo 4, ya que cada permutación, si se repite el mismo movimiento 4 veces, se vuelve a la posición inicial."
      ],
      "metadata": {
        "id": "C7gt31tLl40j"
      }
    },
    {
      "cell_type": "markdown",
      "source": [
        "**Generación de la matriz en el cuerpo módulo 4**"
      ],
      "metadata": {
        "id": "HrBlSEVZn3eO"
      }
    },
    {
      "cell_type": "markdown",
      "source": [
        "Se utiliza:\n",
        " - La función `randbelow()` de la biblioteca `secrets` para generar números aleatorios **módulo 4**, es decir de 0 a 3.\n",
        "\n",
        "- La función `.array()` de la biblioteca `numpy` para obtener una matriz de `3 filas` y `2 columnas`"
      ],
      "metadata": {
        "id": "fthEBjKW86cF"
      }
    },
    {
      "cell_type": "markdown",
      "source": [
        "La notación de llamada de la función secrets.randbelow(4) y np.array() sigue la convención de utilizar el punto para acceder a los métodos y atributos dentro de un módulo o biblioteca en Python."
      ],
      "metadata": {
        "id": "oMBVrwYB98Ka"
      }
    },
    {
      "cell_type": "code",
      "source": [
        "def rubik_matrix():\n",
        "    # Función que calcula una matriz de permutaciones aleatorias (con una fila de ceros agregada para que sea cuadrada)\n",
        "\n",
        "    # Definición del número de filas y columnas\n",
        "    filas = 3\n",
        "    columnas = 3\n",
        "    # Inicialización de la matriz\n",
        "    matriz_permutaciones = []\n",
        "\n",
        "    # Crear la matriz con números aleatorios\n",
        "    matriz_permutaciones = np.array([[secrets.randbelow(4) for _ in range(columnas)] for _ in range(filas-1)])\n",
        "\n",
        "    # Agregar una fila de unos al final de la matriz\n",
        "    fila_ceros = np.ones((1, columnas), dtype=int)\n",
        "    matriz_permutaciones = np.append(matriz_permutaciones, fila_ceros, axis=0)\n",
        "\n",
        "    return matriz_permutaciones"
      ],
      "metadata": {
        "id": "kt7h5e-Hb1z_"
      },
      "execution_count": null,
      "outputs": []
    },
    {
      "cell_type": "code",
      "source": [
        "# Crear la matriz con números aleatorios\n",
        "matriz_permutaciones = rubik_matrix()\n",
        "\n",
        "# Asegurar que la matriz tenga inversa (determinante no nulo)\n",
        "while np.linalg.det(matriz_permutaciones) == 0:\n",
        "    matriz_permutaciones = rubik_matrix()\n",
        "\n",
        "print(matriz_permutaciones)"
      ],
      "metadata": {
        "id": "-8-CZc5Hn-CU",
        "colab": {
          "base_uri": "https://localhost:8080/"
        },
        "outputId": "0c621da3-b74d-42a8-c324-c28f68c31fd3"
      },
      "execution_count": null,
      "outputs": [
        {
          "output_type": "stream",
          "name": "stdout",
          "text": [
            "[[1 2 1]\n",
            " [2 0 1]\n",
            " [1 1 1]]\n"
          ]
        }
      ]
    },
    {
      "cell_type": "markdown",
      "source": [
        "**Multiplicación de la matriz por el vector del mensaje**\n",
        "\n",
        "TODO: si el mensahe es impar, añadir -1"
      ],
      "metadata": {
        "id": "tJuHx2MvTXyk"
      }
    },
    {
      "cell_type": "markdown",
      "source": [
        "En un cifrado simétrico como este, la matriz (nuestra `llave privada`) tomará valores diferentes cada vez que se encripte un mensaje para una gestión de mensajes más segura.\n",
        "\n",
        " Sin embargo, las dimensiones de la matriz de permutaciones siempre son las mismas, y no tienen por qué coincidir con las dimensiones del mensaje a encriptar, es por ello, que se ha de 'trocear' o hacer 'slicing' del mensaje para que independientemente de sus dimensiones, pueda ser multiplicado matricialmente con la matriz de permutaciones."
      ],
      "metadata": {
        "id": "sHkYcaG0BFNv"
      }
    },
    {
      "cell_type": "code",
      "source": [
        "mensaje_num"
      ],
      "metadata": {
        "colab": {
          "base_uri": "https://localhost:8080/"
        },
        "id": "kHSQkqJB1u4b",
        "outputId": "193f65ec-c767-4747-c639-9a1b08b35e1f"
      },
      "execution_count": null,
      "outputs": [
        {
          "output_type": "execute_result",
          "data": {
            "text/plain": [
              "array([2, 3, 4, 5, 6])"
            ]
          },
          "metadata": {},
          "execution_count": 184
        }
      ]
    },
    {
      "cell_type": "code",
      "source": [
        "# cifrado_num = np.dot(matriz_permutaciones, resultado)\n",
        "n = mensaje_num.size\n",
        "# Si el tamaño del mensaje es impar, añado un -1 al final\n",
        "while n%3 != 0:\n",
        "  mensaje_num = np.append(mensaje_num,-1)\n",
        "  n = mensaje_num.size\n",
        "m = n//3\n",
        "resultado = mensaje_num.reshape(m, 3)\n",
        "print(resultado)\n",
        "# hago slice del array mensaje\n",
        "cifrado_num = []\n",
        "for i in range(m):\n",
        "  cifrado_num = cifrado_num + [np.dot(matriz_permutaciones, resultado[i])]"
      ],
      "metadata": {
        "id": "PZUr_bfo8l9h",
        "colab": {
          "base_uri": "https://localhost:8080/"
        },
        "outputId": "f55f8f1f-b5d3-4451-d713-725c269a0c84"
      },
      "execution_count": null,
      "outputs": [
        {
          "output_type": "stream",
          "name": "stdout",
          "text": [
            "[[ 2  3  4]\n",
            " [ 5  6 -1]]\n"
          ]
        }
      ]
    },
    {
      "cell_type": "markdown",
      "source": [
        "$Matriz\\_permutaciones \\times mensaje\\_num = cifrado\\_num$"
      ],
      "metadata": {
        "id": "39vh2Ji82EWI"
      }
    },
    {
      "cell_type": "code",
      "source": [
        "cifrado_num"
      ],
      "metadata": {
        "colab": {
          "base_uri": "https://localhost:8080/"
        },
        "id": "86DgrhRhL-Oq",
        "outputId": "0c0f3455-a9ff-4ef5-daad-bc4df7f6864b"
      },
      "execution_count": null,
      "outputs": [
        {
          "output_type": "execute_result",
          "data": {
            "text/plain": [
              "[array([12,  8,  9]), array([16,  9, 10])]"
            ]
          },
          "metadata": {},
          "execution_count": 186
        }
      ]
    },
    {
      "cell_type": "markdown",
      "source": [
        "Pasamos a carácter de nuevo.\n",
        "\n"
      ],
      "metadata": {
        "id": "0-SO-h20Tbt1"
      }
    },
    {
      "cell_type": "code",
      "source": [
        "cifrado_char = numeros_a_caracteres(np.concatenate(cifrado_num),0)\n",
        "print(cifrado_char)"
      ],
      "metadata": {
        "id": "mw4aPDG-9nul",
        "outputId": "0501b099-c615-4f55-ebd4-08f14a9e09ff",
        "colab": {
          "base_uri": "https://localhost:8080/"
        }
      },
      "execution_count": null,
      "outputs": [
        {
          "output_type": "stream",
          "name": "stdout",
          "text": [
            "mijqjk\n"
          ]
        }
      ]
    },
    {
      "cell_type": "markdown",
      "source": [
        "El mensaje ha sido modificado 1º mediante un cifrado César y 2º mediante la multiplicación por la matriz de permutaciones de un cubo de Rubik.\n"
      ],
      "metadata": {
        "id": "sk7M2Yii3a61"
      }
    },
    {
      "cell_type": "markdown",
      "source": [
        "## Proceso inverso de desencriptación"
      ],
      "metadata": {
        "id": "1Ovy9ELN5AEu"
      }
    },
    {
      "cell_type": "markdown",
      "source": [
        "Para descifrar el mensaje, calculamos la inversa de la matriz transformación:"
      ],
      "metadata": {
        "id": "kNcRPWKcT3Xa"
      }
    },
    {
      "cell_type": "code",
      "source": [
        "# Calcular la inversa\n",
        "inversa = np.linalg.inv(matriz_permutaciones)\n",
        "print(inversa)"
      ],
      "metadata": {
        "colab": {
          "base_uri": "https://localhost:8080/"
        },
        "id": "zgOYkK83YFZn",
        "outputId": "e8aad3e8-e1c1-4ecd-db25-77c1096913d8"
      },
      "execution_count": null,
      "outputs": [
        {
          "output_type": "stream",
          "name": "stdout",
          "text": [
            "[[ 1.  1. -2.]\n",
            " [ 1.  0. -1.]\n",
            " [-2. -1.  4.]]\n"
          ]
        }
      ]
    },
    {
      "cell_type": "code",
      "source": [
        "descifrado_num = []\n",
        "for i in range(len(cifrado_num)):\n",
        "  descifrado_num = descifrado_num + [np.dot(inversa, cifrado_num[i])]\n",
        "print(descifrado_num)"
      ],
      "metadata": {
        "colab": {
          "base_uri": "https://localhost:8080/"
        },
        "id": "mA176LH5ZKrw",
        "outputId": "3874c423-8984-4b37-8d42-dde57100ecd5"
      },
      "execution_count": null,
      "outputs": [
        {
          "output_type": "stream",
          "name": "stdout",
          "text": [
            "[array([2., 3., 4.]), array([ 5.,  6., -1.])]\n"
          ]
        }
      ]
    },
    {
      "cell_type": "code",
      "source": [
        "for i in range(m):\n",
        "  mensaje = np.append(mensaje,numeros_a_caracteres(descifrado_num[i].astype(int),2))\n",
        "print(''.join(mensaje)) # Para unificar los strings en una sola cadena"
      ],
      "metadata": {
        "colab": {
          "base_uri": "https://localhost:8080/"
        },
        "id": "jbs-qnqDhnLz",
        "outputId": "c3a77143-f697-4f7c-ca33-e61f0ca027cf"
      },
      "execution_count": null,
      "outputs": [
        {
          "output_type": "stream",
          "name": "stdout",
          "text": [
            "abcde\n"
          ]
        }
      ]
    },
    {
      "cell_type": "markdown",
      "source": [
        "Y así obtenemos el mensaje inicial."
      ],
      "metadata": {
        "id": "sb-0bD2oiEYc"
      }
    },
    {
      "cell_type": "markdown",
      "source": [
        "\n",
        "\n",
        "---\n",
        "\n"
      ],
      "metadata": {
        "id": "4xmh2auMHxzi"
      }
    },
    {
      "cell_type": "markdown",
      "source": [
        "## Estandarización del proceso"
      ],
      "metadata": {
        "id": "3JA0c_WejYt-"
      }
    },
    {
      "cell_type": "markdown",
      "source": [
        "Anteriormente se ha explicado paso por paso el proceso, añadiendo explicaciones con ejemplos para cada paso. Pero si se quisiese implementar este modelo de encriptación para cualquier mensaje introducido, se hará mediante las siguientes funciones que se encargan de:\n",
        "- Generar la matriz de permutaciones y seleccionar un número de desplazamientos (clave secreta)\n",
        "- Transformar entrada de texto a numérico\n",
        "- Encriptar\n",
        "- Desencriptar\n",
        "- Transformar entrada numérica a texto"
      ],
      "metadata": {
        "id": "0E6zlMq5jdLb"
      }
    },
    {
      "cell_type": "code",
      "source": [
        "def rubik_matrix():\n",
        "    # Función que calcula una matriz de permutaciones aleatorias (con una fila de ceros agregada para que sea cuadrada)\n",
        "\n",
        "    # Definición del número de filas y columnas\n",
        "    filas = 3\n",
        "    columnas = 3\n",
        "    # Inicialización de la matriz\n",
        "    matriz_permutaciones = np.zeros((3, 3))\n",
        "    while np.linalg.det(matriz_permutaciones) == 0:\n",
        "      # Crear la matriz con números aleatorios\n",
        "      matriz_permutaciones = np.array([[secrets.randbelow(4) for _ in range(columnas)] for _ in range(filas-1)])\n",
        "\n",
        "      # Agregar una fila de unos al final de la matriz\n",
        "      fila_ceros = np.ones((1, columnas), dtype=int)\n",
        "      matriz_permutaciones = np.append(matriz_permutaciones, fila_ceros, axis=0)\n",
        "\n",
        "\n",
        "    return matriz_permutaciones"
      ],
      "metadata": {
        "id": "xtulMmOF9awI"
      },
      "execution_count": 279,
      "outputs": []
    },
    {
      "cell_type": "code",
      "source": [
        "def generar_claves():\n",
        "\n",
        "  # Crear la matriz de permutaciones del cubo de rubik\n",
        "  matriz_permutaciones = rubik_matrix()\n",
        "\n",
        "  print('--------------------------------------------')\n",
        "  print('CLAVE SECRETA: ')\n",
        "  print('Matriz de permutaciones cubo de Rubik: ',matriz_permutaciones)\n",
        "  print('--------------------------------------------')\n",
        "  return matriz_permutaciones"
      ],
      "metadata": {
        "id": "x4qoW0mo8Udg"
      },
      "execution_count": 280,
      "outputs": []
    },
    {
      "cell_type": "code",
      "source": [
        "def cadena_a_numeros(cadena):\n",
        "    numeros = []\n",
        "    for caracter in cadena:\n",
        "        numero = ord(caracter) - ord('a')\n",
        "        numeros.append(numero)\n",
        "    return numeros"
      ],
      "metadata": {
        "id": "5OztQuUgDIpB"
      },
      "execution_count": 281,
      "outputs": []
    },
    {
      "cell_type": "code",
      "source": [
        "chr(-1+ ord('a'))"
      ],
      "metadata": {
        "id": "OFMwlInv_ji5",
        "outputId": "0a41849a-4727-4020-96ff-d2b6656b7827",
        "colab": {
          "base_uri": "https://localhost:8080/",
          "height": 35
        }
      },
      "execution_count": 282,
      "outputs": [
        {
          "output_type": "execute_result",
          "data": {
            "text/plain": [
              "'`'"
            ],
            "application/vnd.google.colaboratory.intrinsic+json": {
              "type": "string"
            }
          },
          "metadata": {},
          "execution_count": 282
        }
      ]
    },
    {
      "cell_type": "code",
      "source": [
        "def numeros_a_cadena(numeros):\n",
        "    cadena = \"\"\n",
        "    for numero in numeros:\n",
        "      if numero>=0:\n",
        "          caracter = chr(numero + ord('a'))\n",
        "          cadena += caracter\n",
        "    return cadena\n"
      ],
      "metadata": {
        "id": "FtwvNcyKHr2v"
      },
      "execution_count": 283,
      "outputs": []
    },
    {
      "cell_type": "code",
      "source": [
        "def encriptar(matriz_permutaciones):\n",
        "  mensaje = input('Introduzca un mensaje: ')\n",
        "  mensaje_num = caracteres_a_numeros(mensaje)\n",
        "  print('--------------------------------------------')\n",
        "  print(\"MENSAJE EN FORMA NUMÉRICA: \", mensaje_num)\n",
        "  n = mensaje_num.size\n",
        "  # Si el tamaño del mensaje es impar, añado un -1 al final\n",
        "  while n%3 != 0:\n",
        "    mensaje_num = np.append(mensaje_num,-1)\n",
        "    n = mensaje_num.size\n",
        "  m = n//3\n",
        "  resultado = mensaje_num.reshape(m, 3)\n",
        "  print(resultado)\n",
        "  # slice del array mensaje\n",
        "  cifrado_num = []\n",
        "  for elemento in resultado:\n",
        "    cifrado_num = cifrado_num + [np.dot(matriz_permutaciones, elemento)]\n",
        "  print('CIFRADO EN FORMA NUMÉRICA:: ', cifrado_num)\n",
        "  print('CIFRADO EN FORMA ALFABÉTICA:: ', numeros_a_cadena(np.concatenate([array % 26 for array in cifrado_num])))\n",
        "  print('--------------------------------------------')\n",
        "  return cifrado_num"
      ],
      "metadata": {
        "id": "bVSg_b6l5mR6"
      },
      "execution_count": 284,
      "outputs": []
    },
    {
      "cell_type": "code",
      "source": [
        "def desencriptar(cifrado_num,matriz_permutaciones):\n",
        "  inversa = np.linalg.inv(matriz_permutaciones)\n",
        "  print(matriz_permutaciones)\n",
        "  descifrado_num = []\n",
        "  mensaje = []\n",
        "  for vector in cifrado_num:\n",
        "    descifrado_num = np.dot(inversa, vector)\n",
        "    mensaje = np.append(mensaje,numeros_a_cadena(np.round(descifrado_num).astype(int)))\n",
        "  return ''.join(mensaje) # Para unificar los strings en una sola cadena"
      ],
      "metadata": {
        "id": "2F7L_BBuE5C1"
      },
      "execution_count": 285,
      "outputs": []
    },
    {
      "cell_type": "markdown",
      "source": [
        "## Aplicación real"
      ],
      "metadata": {
        "id": "Mv_BijHicl_T"
      }
    },
    {
      "cell_type": "code",
      "source": [
        "matriz_permutaciones= generar_claves()"
      ],
      "metadata": {
        "colab": {
          "base_uri": "https://localhost:8080/"
        },
        "id": "BAigQlt5FyaW",
        "outputId": "db81c580-5bc0-48dc-ad1a-90f7b3a3ec36"
      },
      "execution_count": 286,
      "outputs": [
        {
          "output_type": "stream",
          "name": "stdout",
          "text": [
            "--------------------------------------------\n",
            "CLAVE SECRETA: \n",
            "Matriz de permutaciones cubo de Rubik:  [[1 2 2]\n",
            " [2 2 0]\n",
            " [1 1 1]]\n",
            "--------------------------------------------\n"
          ]
        }
      ]
    },
    {
      "cell_type": "code",
      "source": [
        "cifrado_num = encriptar(matriz_permutaciones)"
      ],
      "metadata": {
        "colab": {
          "base_uri": "https://localhost:8080/"
        },
        "id": "Cp-F-mbLF-0v",
        "outputId": "93497079-3f25-4225-c4d1-5efab39113b2"
      },
      "execution_count": 287,
      "outputs": [
        {
          "output_type": "stream",
          "name": "stdout",
          "text": [
            "Introduzca un mensaje: hola\n",
            "--------------------------------------------\n",
            "MENSAJE EN FORMA NUMÉRICA:  [ 7 14 11  0]\n",
            "[[ 7 14 11]\n",
            " [ 0 -1 -1]]\n",
            "CIFRADO EN FORMA NUMÉRICA::  [array([57, 42, 32]), array([-4, -2, -2])]\n",
            "CIFRADO EN FORMA ALFABÉTICA::  fqgwyy\n",
            "--------------------------------------------\n"
          ]
        }
      ]
    },
    {
      "cell_type": "code",
      "source": [
        "mensaje = desencriptar(cifrado_num,matriz_permutaciones)\n",
        "print('El mensaje original es: ',mensaje)"
      ],
      "metadata": {
        "colab": {
          "base_uri": "https://localhost:8080/"
        },
        "id": "1PVLsR_NGaZG",
        "outputId": "e4db3ab0-6f03-4092-9716-29a2f6eed884"
      },
      "execution_count": 288,
      "outputs": [
        {
          "output_type": "stream",
          "name": "stdout",
          "text": [
            "[[1 2 2]\n",
            " [2 2 0]\n",
            " [1 1 1]]\n",
            "El mensaje original es:  hola\n"
          ]
        }
      ]
    }
  ]
}